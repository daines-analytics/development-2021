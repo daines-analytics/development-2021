{
 "cells": [
  {
   "cell_type": "markdown",
   "metadata": {
    "colab_type": "text",
    "id": "nn0Ld1RjTekC"
   },
   "source": [
    "# Algorithmic Trading Model for Simple Trend-Following Strategy Using Python Take 3\n",
    "### David Lowe\n",
    "### January 5, 2021\n",
    "\n",
    "NOTE: This script is for learning purposes only and does not constitute a recommendation for buying or selling any stock mentioned in this script.\n",
    "\n",
    "SUMMARY: This project aims to construct and test an algorithmic trading model and document the end-to-end steps using a template.\n",
    "\n",
    "INTRODUCTION: This algorithmic trading model examines a simple trend-following strategy for a stock. The model buys a stock when the price reaches the highest price for the last X number of days. The model will exit the long position when the stock price crosses below the mean of the same window size. Conversely, the model shorts a stock when the price reaches below the lowest price for the last X number of days. The model will exit the short position when the stock price crosses above the mean of the same window size.\n",
    "\n",
    "From iteration Take1, we set up the models using one fixed window size for long trades only. The window size varied from 10 to 50 trading days at a 5-day increment.\n",
    "\n",
    "From iteration Take2, we set up the models using one fixed window size for long trades only. The window size will vary from 10 to 50 trading days at a 5-day increment. In addition, the models took into account a volume indicator with its own window size to confirm the buy/sell signal.\n",
    "\n",
    "In this Take3 iteration, we will set up the models using one fixed window size for both long and short trades. The window size will vary from 10 to 50 trading days at a 5-day increment.\n",
    "\n",
    "ANALYSIS: From iteration Take1, we analyzed the stock prices for Apple Inc. (AAPL) between January 1, 2019, and December 24, 2020. The trading model produced a profit of 81.49 dollars per share. The buy-and-hold approach yielded a gain of 92.60 dollars per share.\n",
    "\n",
    "In this Take2 iteration, we analyzed the stock prices for Apple Inc. (AAPL) between January 1, 2019, and December 24, 2020. The trading model produced a profit of 82.47 dollars per share. The buy-and-hold approach yielded a gain of 92.60 dollars per share.\n",
    "\n",
    "In this Take2 iteration, we analyzed the stock prices for Apple Inc. (AAPL) between January 1, 2019, and December 24, 2020. The trading model produced a profit of 82.47 dollars per share. The buy-and-hold approach yielded a gain of 92.60 dollars per share.\n",
    "\n",
    "CONCLUSION: For the stock of AAPL during the modeling time frame, the trading strategy did not produce a better return than the buy-and-hold approach. We should consider modeling this stock further by experimenting with more variations of the strategy.\n",
    "\n",
    "Dataset ML Model: Time series analysis with numerical attributes\n",
    "\n",
    "Dataset Used: Quandl\n",
    "\n",
    "An algorithmic trading modeling project generally can be broken down into about five major tasks:\n",
    "\n",
    "1. Prepare Environment\n",
    "2. Acquire and Pre-Process Data\n",
    "3. Implement and Train Models\n",
    "4. Back-test Models\n",
    "5. Evaluate Strategy Performance"
   ]
  },
  {
   "cell_type": "markdown",
   "metadata": {
    "colab_type": "text",
    "id": "-DieEv9pTekE"
   },
   "source": [
    "## Task 1 - Prepare Environment"
   ]
  },
  {
   "cell_type": "code",
   "execution_count": 94,
   "metadata": {
    "collapsed": false,
    "jupyter": {
     "outputs_hidden": false
    },
    "pycharm": {
     "name": "#%%\n"
    }
   },
   "outputs": [],
   "source": [
    "# # Install the necessary packages for Colab\n",
    "# !pip install python-dotenv PyMySQL"
   ]
  },
  {
   "cell_type": "code",
   "execution_count": 95,
   "metadata": {
    "collapsed": false,
    "jupyter": {
     "outputs_hidden": false
    },
    "pycharm": {
     "name": "#%%\n"
    }
   },
   "outputs": [],
   "source": [
    "# # Retrieve the GPU information from Colab\n",
    "# gpu_info = !nvidia-smi\n",
    "# gpu_info = '\\n'.join(gpu_info)\n",
    "# if gpu_info.find('failed') >= 0:\n",
    "#     print('Select the Runtime → \"Change runtime type\" menu to enable a GPU accelerator, ')\n",
    "#     print('and then re-execute this cell.')\n",
    "# else:\n",
    "#     print(gpu_info)"
   ]
  },
  {
   "cell_type": "code",
   "execution_count": 96,
   "metadata": {
    "collapsed": false,
    "jupyter": {
     "outputs_hidden": false
    },
    "pycharm": {
     "name": "#%%\n"
    }
   },
   "outputs": [],
   "source": [
    "# # Retrieve the memory configuration from Colab\n",
    "# from psutil import virtual_memory\n",
    "# ram_gb = virtual_memory().total / 1e9\n",
    "# print('Your runtime has {:.1f} gigabytes of available RAM\\n'.format(ram_gb))\n",
    "#\n",
    "# if ram_gb < 20:\n",
    "#     print('To enable a high-RAM runtime, select the Runtime → \"Change runtime type\"')\n",
    "#     print('menu, and then select High-RAM in the Runtime shape dropdown. Then, ')\n",
    "#     print('re-execute this cell.')\n",
    "# else:\n",
    "#     print('You are using a high-RAM runtime!')"
   ]
  },
  {
   "cell_type": "code",
   "execution_count": 97,
   "metadata": {
    "collapsed": false,
    "jupyter": {
     "outputs_hidden": false
    },
    "pycharm": {
     "name": "#%%\n"
    }
   },
   "outputs": [],
   "source": [
    "# # Retrieve the CPU information\n",
    "# ncpu = !nproc\n",
    "# print(\"The number of available CPUs is:\", ncpu[0])"
   ]
  },
  {
   "cell_type": "markdown",
   "metadata": {
    "pycharm": {
     "name": "#%% md\n"
    }
   },
   "source": [
    "### 1.a) Load libraries and modules"
   ]
  },
  {
   "cell_type": "code",
   "execution_count": 98,
   "metadata": {
    "colab": {},
    "colab_type": "code",
    "collapsed": false,
    "id": "8IwyGxxuTekE",
    "jupyter": {
     "outputs_hidden": false
    },
    "pycharm": {
     "name": "#%%\n"
    }
   },
   "outputs": [],
   "source": [
    "import pandas as pd\n",
    "import matplotlib.pyplot as plt\n",
    "import os\n",
    "import sys\n",
    "from datetime import date, datetime, timedelta\n",
    "import requests\n",
    "import json\n",
    "from dotenv import load_dotenv\n",
    "# import pandas_datareader.data as pdr\n",
    "\n",
    "# Begin the timer for the script processing\n",
    "startTimeScript = datetime.now()"
   ]
  },
  {
   "cell_type": "markdown",
   "metadata": {
    "pycharm": {
     "name": "#%% md\n"
    }
   },
   "source": [
    "### 1.b) Set up the controlling parameters and functions¶"
   ]
  },
  {
   "cell_type": "code",
   "execution_count": 99,
   "metadata": {
    "colab": {
     "base_uri": "https://localhost:8080/",
     "height": 51
    },
    "colab_type": "code",
    "collapsed": false,
    "id": "Zagik25QTekS",
    "jupyter": {
     "outputs_hidden": false
    },
    "outputId": "d14332ba-63ec-4224-ca13-c4ecdab3541a",
    "pycharm": {
     "name": "#%%\n"
    }
   },
   "outputs": [
    {
     "name": "stdout",
     "output_type": "stream",
     "text": [
      "Starting date for the model: 2019-01-01\n",
      "Ending date for the model: 2020-12-25\n",
      "First date of data we need for modeling: 2018-12-17\n",
      "Last date of data we need for modeling: 2020-12-25\n"
     ]
    }
   ],
   "source": [
    "# Specify the key modeling parameters below\n",
    "STOCK_SYMBOL = 'AAPL'\n",
    "INITIAL_CAPITAL = 0\n",
    "\n",
    "# Specify the moving average parameters for the trading strategy\n",
    "WINDOW_MIN = 10\n",
    "WINDOW_MAX = 10\n",
    "WINDOW_INCREMENT = 5\n",
    "\n",
    "# The number of extra days of data we need for calculating moving averages (usually equals to the largest value of slow MA)\n",
    "EXTRA_DAYS = WINDOW_MAX\n",
    "\n",
    "MODEL_START_DATE = date(2019, 1, 1)\n",
    "print(\"Starting date for the model:\", MODEL_START_DATE)\n",
    "\n",
    "MODEL_END_DATE = datetime.now().date()\n",
    "# MODEL_END_DATE = date(2020, 11, 20)\n",
    "print(\"Ending date for the model:\", MODEL_END_DATE)\n",
    "\n",
    "# data_start_date = MODEL_START_DATE\n",
    "data_start_date = MODEL_START_DATE - timedelta(days=int(EXTRA_DAYS * 1.5)) # Need more pricing data to calculate moving averages\n",
    "print(\"First date of data we need for modeling:\", data_start_date)\n",
    "\n",
    "data_end_date = MODEL_END_DATE\n",
    "print(\"Last date of data we need for modeling:\", data_end_date)"
   ]
  },
  {
   "cell_type": "code",
   "execution_count": 100,
   "metadata": {
    "colab": {
     "base_uri": "https://localhost:8080/",
     "height": 34
    },
    "colab_type": "code",
    "collapsed": false,
    "id": "aTI50KL9TekN",
    "jupyter": {
     "outputs_hidden": false
    },
    "outputId": "68f4a687-6e33-48e5-ef46-c23d7994bc3e",
    "pycharm": {
     "name": "#%%\n"
    }
   },
   "outputs": [],
   "source": [
    "# Specify the script running parameters below\n",
    "\n",
    "# Set Pandas options\n",
    "pd.set_option(\"display.max_rows\", None)\n",
    "pd.set_option(\"display.max_columns\", None)\n",
    "pd.set_option(\"display.width\", 255)\n",
    "\n",
    "# Configure the plotting style\n",
    "plt.style.use('seaborn')\n",
    "\n",
    "# Set up the verbose flag to print detailed messages for debugging (setting True will activate!)\n",
    "verbose_signals = True\n",
    "verbose_models = True\n",
    "verbose_graphs = False\n",
    "verbose_portfolios = False\n",
    "verbose_transactions = False\n",
    "verbose_positions = False"
   ]
  },
  {
   "cell_type": "code",
   "execution_count": 101,
   "metadata": {
    "collapsed": false,
    "jupyter": {
     "outputs_hidden": false
    },
    "pycharm": {
     "name": "#%%\n"
    }
   },
   "outputs": [
    {
     "data": {
      "text/plain": "True"
     },
     "execution_count": 101,
     "metadata": {},
     "output_type": "execute_result"
    }
   ],
   "source": [
    "# Set up the parent directory location for loading the dotenv files\n",
    "\n",
    "# Mount Google Drive locally for storing files\n",
    "# from google.colab import drive\n",
    "# drive.mount('/content/gdrive')\n",
    "# gdrivePrefix = '/content/gdrive/My Drive/Colab_Downloads/'\n",
    "# env_path = '/content/gdrive/My Drive/Colab Notebooks/'\n",
    "# dotenv_path = env_path + \"python_script.env\"\n",
    "# load_dotenv(dotenv_path=dotenv_path)\n",
    "\n",
    "# Set up access to the dotenv file on local PC\n",
    "env_path = \"/Users/david/PycharmProjects/\"\n",
    "dotenv_path = env_path + \"python_script.env\"\n",
    "load_dotenv(dotenv_path=dotenv_path)"
   ]
  },
  {
   "cell_type": "markdown",
   "metadata": {
    "colab_type": "text",
    "id": "Xa51FMY_TekZ"
   },
   "source": [
    "## Task 2 - Acquire and Pre-Process Data"
   ]
  },
  {
   "cell_type": "code",
   "execution_count": 102,
   "metadata": {
    "colab": {},
    "colab_type": "code",
    "collapsed": false,
    "id": "Og9L0byuTekd",
    "jupyter": {
     "outputs_hidden": false
    },
    "pycharm": {
     "name": "#%%\n"
    }
   },
   "outputs": [
    {
     "name": "stdout",
     "output_type": "stream",
     "text": [
      "511 data points retrieved from the API call.\n"
     ]
    }
   ],
   "source": [
    "# Set up the data service provider and data acquisition parameters\n",
    "data_service = 'Quandl'\n",
    "\n",
    "# Check and see whether the API key is available\n",
    "api_key = os.environ.get('QUANDL_API')\n",
    "if api_key is None: sys.exit(\"API key for Quandl not available. Script Processing Aborted!!!\")\n",
    "\n",
    "start_date_string = data_start_date.strftime('%Y-%m-%d')\n",
    "end_date_string = data_end_date.strftime('%Y-%m-%d')\n",
    "api_url = \"https://www.quandl.com/api/v3/datatables/SHARADAR/SEP.json?date.gte=%s&date.lte=%s&ticker=%s&api_key=%s\" % (start_date_string, end_date_string, STOCK_SYMBOL, api_key)\n",
    "response = requests.get(api_url)\n",
    "resp_dict = json.loads(response.text)\n",
    "stock_rawdata = pd.DataFrame(resp_dict['datatable']['data'])\n",
    "print(len(stock_rawdata), 'data points retrieved from the API call.')"
   ]
  },
  {
   "cell_type": "code",
   "execution_count": 103,
   "metadata": {},
   "outputs": [
    {
     "name": "stdout",
     "output_type": "stream",
     "text": [
      "           ticker        date    open    high     low   close       volume  dividend  closeunadj lastupdated\n",
      "date                                                                                                        \n",
      "2018-12-17   AAPL  2018-12-17  41.362  42.087  40.682  40.985  177151688.0       0.0      163.94  2020-08-31\n",
      "2018-12-18   AAPL  2018-12-18  41.345  41.883  41.097  41.517  135366072.0       0.0      166.07  2020-08-31\n",
      "2018-12-19   AAPL  2018-12-19  41.500  41.862  39.773  40.222  196189188.0       0.0      160.89  2020-08-31\n",
      "2018-12-20   AAPL  2018-12-20  40.100  40.528  38.825  39.208  259091840.0       0.0      156.83  2020-08-31\n",
      "2018-12-21   AAPL  2018-12-21  39.215  39.540  37.407  37.682  382977536.0       0.0      150.73  2020-08-31\n",
      "\n",
      "           ticker        date    open     high      low    close       volume  dividend  closeunadj lastupdated\n",
      "date                                                                                                           \n",
      "2020-12-18   AAPL  2020-12-18  128.96  129.100  126.120  126.655  192541496.0       0.0     126.655  2020-12-18\n",
      "2020-12-21   AAPL  2020-12-21  125.02  128.310  123.449  128.230  121251553.0       0.0     128.230  2020-12-21\n",
      "2020-12-22   AAPL  2020-12-22  131.61  134.405  129.650  131.880  169351825.0       0.0     131.880  2020-12-22\n",
      "2020-12-23   AAPL  2020-12-23  132.16  132.430  130.780  130.960   87689496.0       0.0     130.960  2020-12-23\n",
      "2020-12-24   AAPL  2020-12-24  131.32  133.460  131.100  131.970   54902010.0       0.0     131.970  2020-12-24\n"
     ]
    }
   ],
   "source": [
    "stock_rawdata.columns = ['ticker', 'date', 'open', 'high', 'low', 'close', 'volume', 'dividend', 'closeunadj', 'lastupdated']\n",
    "# stock_rawdata.set_index('date', inplace=True)\n",
    "stock_rawdata.index = pd.to_datetime(stock_rawdata.date)\n",
    "stock_pricing = stock_rawdata.sort_index(ascending=True)\n",
    "print(stock_pricing.head())\n",
    "print()\n",
    "print(stock_pricing.tail())"
   ]
  },
  {
   "cell_type": "code",
   "execution_count": 104,
   "metadata": {
    "colab": {
     "base_uri": "https://localhost:8080/",
     "height": 535
    },
    "colab_type": "code",
    "collapsed": false,
    "id": "Tfuu40coTekv",
    "jupyter": {
     "outputs_hidden": false
    },
    "outputId": "2357753d-6c83-46ad-e8cc-8593497d20ff",
    "pycharm": {
     "name": "#%%\n"
    }
   },
   "outputs": [
    {
     "data": {
      "text/plain": "<Figure size 1152x648 with 1 Axes>",
      "image/png": "[encoded data removed]"
     },
     "metadata": {},
     "output_type": "display_data"
    }
   ],
   "source": [
    "# Set up the standard column name for modeling\n",
    "# Column names may be data-provider specific!\n",
    "MODEL_TEMPLATE = stock_pricing.loc[:, ['open','close','volume']]\n",
    "MODEL_TEMPLATE.rename(columns={'open': 'open_price', 'close': 'close_price', 'volume': 'trading_volume'}, inplace=True)\n",
    "plot_title = 'Historical Stock Close Price for ' + STOCK_SYMBOL + ' from ' + data_service\n",
    "MODEL_TEMPLATE['close_price'].plot(figsize=(16,9), title=plot_title)\n",
    "plt.show()"
   ]
  },
  {
   "cell_type": "markdown",
   "metadata": {
    "colab_type": "text",
    "id": "UKNJYDlGTek0"
   },
   "source": [
    "## Task 3 - Implement and Train Models"
   ]
  },
  {
   "cell_type": "code",
   "execution_count": 105,
   "metadata": {
    "colab": {},
    "colab_type": "code",
    "collapsed": false,
    "id": "yfQTRXPnTelA",
    "jupyter": {
     "outputs_hidden": false
    },
    "pycharm": {
     "name": "#%%\n"
    }
   },
   "outputs": [],
   "source": [
    "# Define the function that will generate the indicators and trading signals\n",
    "def populate_signals(window=WINDOW_MIN):\n",
    "\n",
    "    trade_model = MODEL_TEMPLATE.copy()\n",
    "    trade_model['window_high'] = trade_model['close_price'].shift(1).rolling(window=window).max()\n",
    "    trade_model['window_low'] = trade_model['close_price'].shift(1).rolling(window=window).min()\n",
    "    trade_model['window_avg'] = trade_model['close_price'].shift(1).rolling(window=window).mean()\n",
    "    trade_model['buy_on_open'] = False\n",
    "    trade_model['sell_on_open'] = False\n",
    "    trade_model['short_on_open'] = False\n",
    "    trade_model['cover_on_open'] = False\n",
    "    trade_model['position_long'] = False\n",
    "    trade_model['position_short'] = False\n",
    "    trade_model['close_above_avg'] = False\n",
    "    trade_model['close_below_avg'] = False\n",
    "\n",
    "    # Truncate the model to the required starting and ending dates\n",
    "    trade_model = trade_model[MODEL_START_DATE:MODEL_END_DATE]\n",
    "    last_index = len(trade_model) - 1\n",
    "\n",
    "    for k in range(len(trade_model)):\n",
    "        breakout_high = trade_model.at[trade_model.index[k],'close_price'] - trade_model.at[trade_model.index[k],'window_high']\n",
    "        crossover = trade_model.at[trade_model.index[k],'close_price'] - trade_model.at[trade_model.index[k],'window_avg']\n",
    "        breakout_low = trade_model.at[trade_model.index[k],'close_price'] - trade_model.at[trade_model.index[k],'window_low']\n",
    "        if k == 0:\n",
    "            currently_hold_position = False\n",
    "        else:\n",
    "            currently_hold_position = trade_model.at[trade_model.index[k-1],'position_long'] or trade_model.at[trade_model.index[k-1],'position_short']\n",
    "\n",
    "        # Check to see whether we need to execute any trade action on open\n",
    "        if trade_model.at[trade_model.index[k],'buy_on_open']:\n",
    "            trade_model.at[trade_model.index[k],'position_long'] = True\n",
    "        elif trade_model.at[trade_model.index[k],'short_on_open']:\n",
    "            trade_model.at[trade_model.index[k],'position_short'] = True\n",
    "        elif trade_model.at[trade_model.index[k],'sell_on_open']:\n",
    "            trade_model.at[trade_model.index[k],'position_long'] = False\n",
    "        elif trade_model.at[trade_model.index[k],'cover_on_open']:\n",
    "            trade_model.at[trade_model.index[k],'position_short'] = False\n",
    "        else:\n",
    "            # If no trade on open, check to see whether we have a breakout either way\n",
    "            if (breakout_high >= 0) and (not currently_hold_position) and (k < last_index-1):\n",
    "                trade_model.at[trade_model.index[k+1],'buy_on_open'] = True\n",
    "            elif (breakout_low < 0) and (not currently_hold_position) and (k < last_index-1):\n",
    "                trade_model.at[trade_model.index[k+1],'short_on_open'] = True\n",
    "            else:\n",
    "                # If no breakout, check to see whether we need to exit an existing position\n",
    "                if crossover >= 0:\n",
    "                    trade_model.at[trade_model.index[k],'close_above_avg'] = True\n",
    "                    if currently_hold_position and (k > 0) and (k < last_index-1) and trade_model.at[trade_model.index[k-1],'close_below_avg']:\n",
    "                        trade_model.at[trade_model.index[k+1],'cover_on_open'] = True\n",
    "                else:\n",
    "                    trade_model.at[trade_model.index[k],'close_below_avg'] = True\n",
    "                    if currently_hold_position and (k > 0) and (k < last_index-1) and trade_model.at[trade_model.index[k-1],'close_above_avg']:\n",
    "                        trade_model.at[trade_model.index[k+1],'sell_on_open'] = True\n",
    "\n",
    "            # If no action on a given day, carry over the position status\n",
    "            if (k > 0) and (not trade_model.at[trade_model.index[k],'buy_on_open']) and (not trade_model.at[trade_model.index[k],'sell_on_open']) and (not trade_model.at[trade_model.index[k],'short_on_open']) and (not trade_model.at[trade_model.index[k],'cover_on_open']):\n",
    "                trade_model.at[trade_model.index[k],'position_long'] = trade_model.at[trade_model.index[k-1],'position_long']\n",
    "                trade_model.at[trade_model.index[k],'position_short'] = trade_model.at[trade_model.index[k-1],'position_short']\n",
    "\n",
    "        # Exiting the position on the last day of modeling period\n",
    "        if k == last_index-1:\n",
    "            if trade_model.at[trade_model.index[k],'position_long']:\n",
    "                trade_model.at[trade_model.index[k+1],'sell_on_open'] = True\n",
    "                trade_model.at[trade_model.index[k+1],'position_long'] = False\n",
    "            elif trade_model.at[trade_model.index[k],'position_short']:\n",
    "                trade_model.at[trade_model.index[k+1],'cover_on_open'] = True\n",
    "                trade_model.at[trade_model.index[k+1],'position_short'] = False\n",
    "\n",
    "    if verbose_signals: print(trade_model, '\\n')\n",
    "    return trade_model"
   ]
  },
  {
   "cell_type": "code",
   "execution_count": 106,
   "metadata": {
    "collapsed": false,
    "jupyter": {
     "outputs_hidden": false
    },
    "pycharm": {
     "name": "#%%\n"
    }
   },
   "outputs": [
    {
     "name": "stdout",
     "output_type": "stream",
     "text": [
      "Processing model: Model_001_WINDOW_10\n",
      "            open_price  close_price  trading_volume  window_high  window_low  window_avg  buy_on_open  sell_on_open  short_on_open  cover_on_open  position_long  position_short  close_above_avg  close_below_avg\n",
      "date                                                                                                                                                                                                              \n",
      "2019-01-02      38.722       39.480     148158948.0       41.517      36.708     39.3144        False         False          False          False          False           False             True            False\n",
      "2019-01-03      35.995       35.547     365248780.0       41.517      36.708     39.1639        False         False          False          False          False           False            False            False\n",
      "2019-01-04      36.133       37.065     234428280.0       40.222      35.547     38.5669        False         False           True          False          False            True            False            False\n",
      "2019-01-07      37.175       36.983     219111056.0       39.480      35.547     38.2512        False         False          False          False          False            True            False             True\n",
      "2019-01-08      37.390       37.688     164101256.0       39.480      35.547     38.0287        False         False          False          False          False            True            False             True\n",
      "2019-01-09      37.822       38.328     180396324.0       39.480      35.547     38.0293        False         False          False          False          False            True             True            False\n",
      "2019-01-10      38.125       38.450     143122680.0       39.480      35.547     38.1913        False         False          False           True          False           False            False            False\n",
      "2019-01-11      38.220       38.072     108092964.0       39.480      35.547     38.1071        False         False          False          False          False           False            False             True\n",
      "2019-01-14      37.712       37.500     129756744.0       39.480      35.547     38.0105        False         False          False          False          False           False            False             True\n",
      "2019-01-15      37.568       38.267     114841296.0       39.480      35.547     37.8548        False         False          False          False          False           False             True            False\n",
      "2019-01-16      38.270       38.735     122278824.0       39.480      35.547     37.7380        False         False          False          False          False           False             True            False\n",
      "2019-01-17      38.550       38.965     119284640.0       38.735      35.547     37.6635        False         False          False          False          False           False            False            False\n",
      "2019-01-18      39.375       39.205     135004092.0       38.965      36.983     38.0053         True         False          False          False           True           False            False            False\n",
      "2019-01-22      39.102       38.325     121575880.0       39.205      36.983     38.2193        False         False          False          False           True           False             True            False\n",
      "2019-01-23      38.538       38.480      92522280.0       39.205      37.500     38.3535        False         False          False          False           True           False             True            False\n",
      "2019-01-24      38.528       38.175     101766196.0       39.205      37.500     38.4327        False         False          False          False           True           False            False             True\n",
      "2019-01-25      38.870       39.440     134191572.0       39.205      37.500     38.4174        False          True          False          False          False           False            False            False\n",
      "2019-01-28      38.947       39.075     104768232.0       39.440      37.500     38.5164        False         False          False          False          False           False             True            False\n",
      "2019-01-29      39.063       38.670     166348956.0       39.440      37.500     38.6167        False         False          False          False          False           False             True            False\n",
      "2019-01-30      40.813       41.313     244439120.0       39.440      38.175     38.7337        False         False          False          False          False           False            False            False\n",
      "2019-01-31      41.528       41.610     162958596.0       41.313      38.175     39.0383         True         False          False          False           True           False            False            False\n",
      "2019-02-01      41.740       41.630     130672552.0       41.610      38.175     39.3258        False         False          False          False           True           False             True            False\n",
      "2019-02-04      41.852       42.813     125982328.0       41.630      38.175     39.5923        False         False          False          False           True           False             True            False\n",
      "2019-02-05      43.215       43.545     144406512.0       42.813      38.175     39.9531        False         False          False          False           True           False             True            False\n",
      "2019-02-06      43.663       43.560     112958364.0       43.545      38.175     40.4751        False         False          False          False           True           False             True            False\n",
      "2019-02-07      43.100       42.735     126966760.0       43.560      38.175     40.9831        False         False          False          False           True           False             True            False\n",
      "2019-02-08      42.248       42.602      95279864.0       43.560      38.670     41.4391        False         False          False          False           True           False             True            False\n",
      "2019-02-11      42.763       42.358      83973700.0       43.560      38.670     41.7553        False         False          False          False           True           False             True            False\n",
      "2019-02-12      42.525       42.722      89134092.0       43.560      38.670     42.0836        False         False          False          False           True           False             True            False\n",
      "2019-02-13      42.847       42.545      89960932.0       43.560      41.313     42.4888        False         False          False          False           True           False             True            False\n",
      "2019-02-14      42.428       42.700      87342988.0       43.560      41.610     42.6120        False         False          False          False           True           False             True            False\n",
      "2019-02-15      42.813       42.605      98507256.0       43.560      41.630     42.7210        False         False          False          False           True           False            False             True\n",
      "2019-02-19      42.428       42.733      75891304.0       43.560      42.358     42.8185        False          True          False          False          False           False            False            False\n",
      "2019-02-20      42.797       43.008     104457448.0       43.560      42.358     42.8105        False         False          False          False          False           False             True            False\n",
      "2019-02-21      42.950       42.765      68998680.0       43.560      42.358     42.7568        False         False          False          False          False           False             True            False\n",
      "2019-02-22      42.895       43.242      75652616.0       43.008      42.358     42.6773        False         False          False          False          False           False            False            False\n",
      "2019-02-25      43.540       43.557      87493432.0       43.242      42.358     42.7280         True         False          False          False           True           False            False            False\n",
      "2019-02-26      43.428       43.583      68280844.0       43.557      42.358     42.8235        False         False          False          False           True           False             True            False\n",
      "2019-02-27      43.303       43.718     111341556.0       43.583      42.545     42.9460        False         False          False          False           True           False             True            False\n",
      "2019-02-28      43.580       43.288     112861664.0       43.718      42.545     43.0456        False         False          False          False           True           False             True            False\n",
      "2019-03-01      43.570       43.742     103544668.0       43.718      42.605     43.1199        False         False          False          False           True           False             True            False\n",
      "2019-03-04      43.922       43.962     109744812.0       43.742      42.605     43.2241        False         False          False          False           True           False             True            False\n",
      "2019-03-05      43.985       43.883      78949676.0       43.962      42.733     43.3598        False         False          False          False           True           False             True            False\n",
      "2019-03-06      43.667       43.630      83241536.0       43.962      42.765     43.4748        False         False          False          False           True           False             True            False\n",
      "2019-03-07      43.468       43.125      99185496.0       43.962      42.765     43.5370        False         False          False          False           True           False            False             True\n",
      "2019-03-08      42.580       43.227      95997432.0       43.962      43.125     43.5730        False          True          False          False          False           False            False            False\n",
      "2019-03-11      43.873       44.725     128044136.0       43.962      43.125     43.5715        False         False          False          False          False           False            False            False\n",
      "2019-03-12      45.000       45.227     129870336.0       44.725      43.125     43.6883         True         False          False          False           True           False            False            False\n",
      "2019-03-13      45.563       45.428     124130096.0       45.227      43.125     43.8527        False         False          False          False           True           False             True            False\n",
      "2019-03-14      45.975       45.932      94318032.0       45.428      43.125     44.0237        False         False          False          False           True           False             True            False\n",
      "2019-03-15      46.212       46.530     156171648.0       45.932      43.125     44.2881        False         False          False          False           True           False             True            False\n",
      "2019-03-18      46.450       47.005     104879328.0       46.530      43.125     44.5669        False         False          False          False           True           False             True            False\n",
      "2019-03-19      47.087       46.633     126585476.0       47.005      43.125     44.8712        False         False          False          False           True           False             True            False\n",
      "2019-03-20      46.557       47.040     124140924.0       47.005      43.125     45.1462        False         False          False          False           True           False             True            False\n",
      "2019-03-21      47.505       48.773     204136948.0       47.040      43.125     45.4872        False         False          False          False           True           False             True            False\n",
      "2019-03-22      48.835       47.763     169630664.0       48.773      43.227     46.0520        False         False          False          False           True           False             True            False\n",
      "2019-03-25      47.877       47.185     175381172.0       48.773      44.725     46.5056        False         False          False          False           True           False             True            False\n",
      "2019-03-26      47.916       46.697     199202152.0       48.773      45.227     46.7516        False         False          False          False           True           False            False             True\n",
      "2019-03-27      47.188       47.117     119393708.0       48.773      45.428     46.8986        False          True          False          False          False           False            False            False\n",
      "2019-03-28      47.237       47.180      83121452.0       48.773      45.932     47.0675        False         False          False          False          False           False             True            False\n",
      "2019-03-29      47.458       47.487      94255844.0       48.773      46.530     47.1923        False         False          False          False          False           False             True            False\n",
      "2019-04-01      47.910       47.810     111447856.0       48.773      46.633     47.2880        False         False          False          False          False           False             True            False\n",
      "2019-04-02      47.773       48.505      91062928.0       48.773      46.633     47.3685        False         False          False          False          False           False             True            False\n",
      "2019-04-03      48.313       48.837      93087320.0       48.773      46.697     47.5557        False         False          False          False          False           False            False            False\n",
      "2019-04-04      48.697       48.922      76457100.0       48.837      46.697     47.7354         True         False          False          False           True           False            False            False\n",
      "2019-04-05      49.112       49.250      74106576.0       48.922      46.697     47.7503        False         False          False          False           True           False             True            False\n",
      "2019-04-08      49.105       50.025     103526788.0       49.250      46.697     47.8990        False         False          False          False           True           False             True            False\n",
      "2019-04-09      50.080       49.875     143072948.0       50.025      46.697     48.1830        False         False          False          False           True           False             True            False\n",
      "2019-04-10      49.670       50.155      86781152.0       50.025      47.117     48.5008        False         False          False          False           True           False             True            False\n",
      "2019-04-11      50.212       49.737      83603232.0       50.155      47.180     48.8046        False         False          False          False           True           False             True            False\n",
      "2019-04-12      49.800       49.718     111042672.0       50.155      47.487     49.0603        False         False          False          False           True           False             True            False\n",
      "2019-04-15      49.645       49.807      70146584.0       50.155      47.810     49.2834        False         False          False          False           True           False             True            False\n",
      "2019-04-16      49.865       49.813     102785540.0       50.155      48.505     49.4831        False         False          False          False           True           False             True            False\n",
      "2019-04-17      49.885       50.782     115627120.0       50.155      48.837     49.6139        False         False          False          False           True           False             True            False\n",
      "2019-04-18      50.780       50.965      96783064.0       50.782      48.922     49.8084        False         False          False          False           True           False             True            False\n",
      "2019-04-22      50.708       51.133      77758180.0       50.965      49.250     50.0127        False         False          False          False           True           False             True            False\n",
      "2019-04-23      51.108       51.870      93291964.0       51.133      49.718     50.2010        False         False          False          False           True           False             True            False\n",
      "2019-04-24      51.840       51.790      70162436.0       51.870      49.718     50.3855        False         False          False          False           True           False             True            False\n",
      "2019-04-25      51.708       51.320      74172824.0       51.870      49.718     50.5770        False         False          False          False           True           False             True            False\n",
      "2019-04-26      51.225       51.075      74596408.0       51.870      49.718     50.6935        False         False          False          False           True           False             True            False\n",
      "2019-04-29      51.100       51.153      88818864.0       51.870      49.718     50.8273        False         False          False          False           True           False             True            False\n",
      "2019-04-30      50.765       50.167     186139692.0       51.870      49.807     50.9708        False         False          False          False           True           False            False             True\n",
      "2019-05-01      52.470       52.630     259309312.0       51.870      49.813     51.0068        False          True          False          False          False           False            False            False\n",
      "2019-05-02      52.460       52.288     127985296.0       52.630      50.167     51.2885        False         False          False          False          False           False             True            False\n",
      "2019-05-03      52.722       52.938      83569512.0       52.630      50.167     51.4391        False         False          False          False          False           False            False            False\n",
      "2019-05-06      51.072       52.120     129772452.0       52.938      50.167     51.6364         True         False          False          False           True           False            False            False\n",
      "2019-05-07      51.470       50.715     155054792.0       52.938      50.167     51.7351        False         False          False          False           True           False            False             True\n",
      "2019-05-08      50.475       50.725     105358016.0       52.938      50.167     51.6196        False         False          False          False           True           False            False             True\n",
      "2019-05-09      50.100       50.180     139634428.0       52.938      50.167     51.5131        False         False          False          False           True           False            False             True\n",
      "2019-05-10      49.355       49.295     164834848.0       52.938      50.167     51.3991        False         False          False          False           True           False            False             True\n",
      "2019-05-13      46.928       46.430     229722492.0       52.938      49.295     51.2211        False         False          False          False           True           False            False             True\n",
      "2019-05-14      46.602       47.165     146118708.0       52.938      46.430     50.7488        False         False          False          False           True           False            False             True\n",
      "2019-05-15      46.568       47.730     106178872.0       52.938      46.430     50.4486        False         False          False          False           True           False            False             True\n",
      "2019-05-16      47.477       47.520     132125456.0       52.938      46.430     49.9586        False         False          False          False           True           False            False             True\n",
      "2019-05-17      46.733       47.250     131516360.0       52.938      46.430     49.4818        False         False          False          False           True           False            False             True\n",
      "2019-05-20      45.880       45.773     154449160.0       52.120      46.430     48.9130        False         False          False          False           True           False            False             True\n",
      "2019-05-21      46.305       46.650     113459392.0       50.725      45.773     48.2783        False         False          False          False           True           False            False             True\n",
      "2019-05-22      46.165       45.695     118994224.0       50.725      45.773     47.8718        False         False          False          False           True           False            False             True\n",
      "2019-05-23      44.950       44.915     146118944.0       50.180      45.695     47.3688        False         False          False          False           True           False            False             True\n",
      "2019-05-24      45.050       44.742      94858744.0       49.295      44.915     46.8423        False         False          False          False           True           False            False             True\n",
      "2019-05-28      44.730       44.557     111792640.0       47.730      44.742     46.3870        False         False          False          False           True           False            False             True\n",
      "2019-05-29      44.105       44.345     113924660.0       47.730      44.557     46.1997        False         False          False          False           True           False            False             True\n",
      "2019-05-30      44.487       44.575      84873648.0       47.730      44.345     45.9177        False         False          False          False           True           False            False             True\n",
      "2019-05-31      44.057       43.767     108174336.0       47.520      44.345     45.6022        False         False          False          False           True           False            False             True\n",
      "2019-06-03      43.900       43.325     161584276.0       47.250      43.767     45.2269        False         False          False          False           True           False            False             True\n",
      "2019-06-04      43.860       44.910     123871844.0       46.650      43.325     44.8344        False         False          False          False           True           False             True            False\n",
      "2019-06-05      46.070       45.635     119093708.0       46.650      43.325     44.7481        False         False          False           True          False           False            False            False\n",
      "2019-06-06      45.770       46.305      90105244.0       45.695      43.325     44.6466        False         False          False          False          False           False            False            False\n",
      "2019-06-07      46.627       47.538     122737572.0       46.305      43.325     44.7076         True         False          False          False           True           False            False            False\n",
      "2019-06-10      47.953       48.145     104883404.0       47.538      43.325     44.9699        False         False          False          False           True           False             True            False\n",
      "2019-06-11      48.715       48.703     107731528.0       48.145      43.325     45.3102        False         False          False          False           True           False             True            False\n",
      "2019-06-12      48.487       48.547      73012756.0       48.703      43.325     45.7248        False         False          False          False           True           False             True            False\n",
      "2019-06-13      48.675       48.538      86698500.0       48.703      43.325     46.1450        False         False          False          False           True           False             True            False\n",
      "2019-06-14      47.886       48.185      75045896.0       48.703      43.325     46.5413        False         False          False          False           True           False             True            False\n",
      "2019-06-17      48.225       48.472      58676576.0       48.703      43.325     46.9831        False         False          False          False           True           False             True            False\n",
      "2019-06-18      49.013       49.612     106204016.0       48.703      44.910     47.4978        False         False          False          False           True           False             True            False\n",
      "2019-06-19      49.920       49.468      84496940.0       49.612      45.635     47.9680        False         False          False          False           True           False             True            False\n",
      "2019-06-20      50.093       49.865      86055952.0       49.612      46.305     48.3513        False         False          False          False           True           False             True            False\n",
      "2019-06-21      49.700       49.695     191202356.0       49.865      47.538     48.7073        False         False          False          False           True           False             True            False\n",
      "2019-06-24      49.635       49.645      72881684.0       49.865      48.145     48.9230        False         False          False          False           True           False             True            False\n",
      "2019-06-25      49.608       48.892      84281336.0       49.865      48.185     49.0730        False         False          False          False           True           False            False             True\n",
      "2019-06-26      49.443       49.950     104270048.0       49.865      48.185     49.0919        False          True          False          False          False           False            False            False\n",
      "2019-06-27      50.072       49.935      83598868.0       49.950      48.185     49.2322        False         False          False          False          False           False             True            False\n",
      "2019-06-28      49.670       49.480     124442568.0       49.950      48.185     49.3719        False         False          False          False          False           False             True            False\n",
      "2019-07-01      50.792       50.388     109266956.0       49.950      48.472     49.5014        False         False          False          False          False           False            False            False\n",
      "2019-07-02      50.352       50.682      67740868.0       50.388      48.892     49.6930         True         False          False          False           True           False            False            False\n",
      "2019-07-03      50.820       51.102      45448180.0       50.682      48.892     49.8000        False         False          False          False           True           False             True            False\n",
      "2019-07-05      50.837       51.057      69062072.0       51.102      48.892     49.9634        False         False          False          False           True           False             True            False\n",
      "2019-07-08      50.203       50.005     101354512.0       51.102      48.892     50.0826        False         False          False          False           True           False            False             True\n",
      "2019-07-09      49.800       50.310      82312060.0       51.102      48.892     50.1136        False          True          False          False          False           False            False            False\n",
      "2019-07-10      50.462       50.807      71588552.0       51.102      48.892     50.1801        False         False          False          False          False           False             True            False\n",
      "2019-07-11      50.828       50.438      80767368.0       51.102      49.480     50.3716        False         False          False          False          False           False             True            False\n",
      "2019-07-12      50.612       50.825      70380848.0       51.102      49.480     50.4204        False         False          False          False          False           False             True            False\n",
      "2019-07-15      51.023       51.303      67789680.0       51.102      49.480     50.5094        False         False          False          False          False           False            False            False\n",
      "2019-07-16      51.148       51.125      67467264.0       51.303      50.005     50.6917         True         False          False          False           True           False            False            False\n",
      "2019-07-17      51.013       50.837      56429800.0       51.303      50.005     50.7654        False         False          False          False           True           False             True            False\n",
      "2019-07-18      51.000       51.415      74328644.0       51.303      50.005     50.7809        False         False          False          False           True           False             True            False\n",
      "2019-07-19      51.447       50.648      83717228.0       51.415      50.005     50.8122        False         False          False          False           True           False            False             True\n",
      "2019-07-22      50.913       51.805      89111728.0       51.415      50.005     50.7713        False          True          False          False          False           False            False            False\n",
      "2019-07-23      52.115       52.210      73420840.0       51.805      50.310     50.9513        False         False          False          False          False           False            False            False\n",
      "2019-07-24      51.917       52.167      59966268.0       52.210      50.438     51.1413         True         False          False          False           True           False            False            False\n",
      "2019-07-25      52.222       51.755      55638248.0       52.210      50.438     51.2773        False         False          False          False           True           False             True            False\n",
      "2019-07-26      51.870       51.935      70475496.0       52.210      50.648     51.4090        False         False          False          False           True           False             True            False\n",
      "2019-07-29      52.115       52.420      86693556.0       52.210      50.648     51.5200        False         False          False          False           True           False             True            False\n",
      "2019-07-30      52.190       52.195     135742872.0       52.420      50.648     51.6317        False         False          False          False           True           False             True            False\n",
      "2019-07-31      54.105       53.260     277125444.0       52.420      50.648     51.7387        False         False          False          False           True           False             True            False\n",
      "2019-08-01      53.475       52.108     216071688.0       53.260      50.648     51.9810        False         False          False          False           True           False             True            False\n",
      "2019-08-02      51.383       51.005     163448488.0       53.260      50.648     52.0503        False         False          False          False           True           False            False             True\n",
      "2019-08-05      49.498       48.335     209571876.0       53.260      51.005     52.0860        False          True          False          False          False           False            False            False\n",
      "2019-08-06      49.078       49.250     143299148.0       53.260      48.335     51.7390        False         False          False          False          False           False            False             True\n",
      "2019-08-07      48.852       49.760     133457600.0       53.260      48.335     51.4430        False         False          False          False          False           False            False             True\n",
      "2019-08-08      50.050       50.858     108038092.0       53.260      48.335     51.2023        False         False          False          False          False           False            False             True\n",
      "2019-08-09      50.325       50.248      98478984.0       53.260      48.335     51.1126        False         False          False          False          False           False            False             True\n",
      "2019-08-12      49.905       50.120      89927556.0       53.260      48.335     50.9439        False         False          False          False          False           False            False             True\n",
      "2019-08-13      50.255       52.242     190159144.0       53.260      48.335     50.7139        False         False          False          False          False           False             True            False\n",
      "2019-08-14      50.790       50.688     146189772.0       53.260      48.335     50.7186        False         False          False          False          False           False            False             True\n",
      "2019-08-15      50.865       50.435     111533452.0       52.242      48.335     50.4614        False         False          False          False          False           False            False             True\n",
      "2019-08-16      51.070       51.625     115254496.0       52.242      48.335     50.2941        False         False          False          False          False           False             True            False\n",
      "2019-08-19      52.655       52.587      97727660.0       52.242      48.335     50.3561        False         False          False          False          False           False            False            False\n",
      "2019-08-20      52.720       52.590     107678116.0       52.587      49.250     50.7813         True         False          False          False           True           False            False            False\n",
      "2019-08-21      53.248       53.160      86258988.0       52.590      49.760     51.1153        False         False          False          False           True           False             True            False\n",
      "2019-08-22      53.297       53.115      89071276.0       53.160      50.120     51.4553        False         False          False          False           True           False             True            False\n",
      "2019-08-23      52.358       50.660     187531372.0       53.160      50.120     51.6810        False         False          False          False           True           False            False             True\n",
      "2019-08-26      51.465       51.623     104264520.0       53.160      50.120     51.7222        False          True          False          False          False           False            False            False\n",
      "2019-08-27      51.965       51.040     103589376.0       53.160      50.435     51.8725        False         False          False          False          False           False            False             True\n",
      "2019-08-28      51.025       51.383      63830528.0       53.160      50.435     51.7523        False         False          False          False          False           False            False             True\n",
      "2019-08-29      52.125       52.252      84030608.0       53.160      50.435     51.8218        False         False          False          False          False           False             True            False\n",
      "2019-08-30      52.540       52.185      84650244.0       53.160      50.660     52.0035        False         False          False          False          False           False             True            False\n",
      "2019-09-03      51.608       51.425      80238296.0       53.160      50.660     52.0595        False         False          False          False          False           False            False             True\n",
      "2019-09-04      52.097       52.297      76867280.0       53.160      50.660     51.9433        False         False          False          False          False           False             True            False\n",
      "2019-09-05      53.000       53.320      95787936.0       53.160      50.660     51.9140        False         False          False          False          False           False            False            False\n",
      "2019-09-06      53.513       53.315      76928340.0       53.320      50.660     51.9300         True         False          False          False           True           False            False            False\n",
      "2019-09-09      53.710       53.542     109237604.0       53.320      50.660     51.9500        False         False          False          False           True           False             True            False\n",
      "2019-09-10      53.465       54.175     127111724.0       53.542      51.040     52.2382        False         False          False          False           True           False             True            False\n",
      "2019-09-11      54.517       55.898     177158584.0       54.175      51.040     52.4934        False         False          False          False           True           False             True            False\n",
      "2019-09-12      56.200       55.771     128906676.0       55.898      51.383     52.9792        False         False          False          False           True           False             True            False\n",
      "2019-09-13      55.000       54.688     159053184.0       55.898      51.425     53.4180        False         False          False          False           True           False             True            False\n",
      "2019-09-16      54.432       54.975      84632564.0       55.898      51.425     53.6616        False         False          False          False           True           False             True            False\n",
      "2019-09-17      54.990       55.175      73545872.0       55.898      51.425     53.9406        False         False          False          False           True           False             True            False\n",
      "2019-09-18      55.265       55.693     102572372.0       55.898      52.297     54.3156        False         False          False          False           True           False             True            False\n",
      "2019-09-19      55.502       55.240      88751504.0       55.898      53.315     54.6552        False         False          False          False           True           False             True            False\n",
      "2019-09-20      55.345       54.432     231908376.0       55.898      53.315     54.8472        False         False          False          False           True           False            False             True\n",
      "2019-09-23      54.737       54.680      77678592.0       55.898      53.542     54.9589        False          True          False          False          False           False            False            False\n",
      "2019-09-24      55.264       54.420     125737468.0       55.898      54.175     55.0727        False         False          False          False          False           False            False             True\n",
      "2019-09-25      54.638       55.258      89924024.0       55.898      54.420     55.0972        False         False          False          False          False           False             True            False\n",
      "2019-09-26      55.000       54.972      76353248.0       55.771      54.420     55.0332        False         False          False          False          False           False            False             True\n",
      "2019-09-27      55.135       54.705     101445140.0       55.693      54.420     54.9533        False         False          False          False          False           False            False             True\n",
      "2019-09-30      55.225       55.992     105274332.0       55.693      54.420     54.9550        False         False          False          False          False           False            False            False\n",
      "2019-10-01      56.267       56.148     144748652.0       55.992      54.420     55.0567         True         False          False          False           True           False            False            False\n",
      "2019-10-02      55.765       54.740     143069028.0       56.148      54.420     55.1540        False         False          False          False           True           False            False             True\n",
      "2019-10-03      54.608       55.205     121410744.0       56.148      54.420     55.0587        False         False          False          False           True           False             True            False\n",
      "2019-10-04      56.410       56.752     139022212.0       56.148      54.420     55.0552        False         False          False           True          False           False            False            False\n",
      "2019-10-07      56.568       56.765     123557076.0       56.752      54.420     55.2872        False         False          False          False          False           False            False            False\n",
      "2019-10-08      56.455       56.100     117130800.0       56.765      54.420     55.4957         True         False          False          False           True           False            False            False\n",
      "2019-10-09      56.758       56.758      76117696.0       56.765      54.705     55.6637        False         False          False          False           True           False             True            False\n",
      "2019-10-10      56.983       57.523     115851936.0       56.765      54.705     55.8137        False         False          False          False           True           False             True            False\n",
      "2019-10-11      58.237       59.053     167960840.0       57.523      54.705     56.0688        False         False          False          False           True           False             True            False\n",
      "2019-10-14      58.725       58.968      97653936.0       59.053      54.740     56.5036        False         False          False          False           True           False             True            False\n",
      "2019-10-15      59.097       58.830      92161932.0       59.053      54.740     56.8012        False         False          False          False           True           False             True            False\n",
      "2019-10-16      58.343       58.593      77146776.0       59.053      54.740     57.0694        False         False          False          False           True           False             True            False\n",
      "2019-10-17      58.773       58.820      69091588.0       59.053      55.205     57.4547        False         False          False          False           True           False             True            False\n",
      "2019-10-18      58.648       59.102      96992092.0       59.053      56.100     57.8162        False         False          False          False           True           False             True            False\n",
      "2019-10-21      59.380       60.127      87246268.0       59.102      56.100     58.0512        False         False          False          False           True           False             True            False\n",
      "2019-10-22      60.290       59.990      90736004.0       60.127      56.100     58.3874        False         False          False          False           True           False             True            False\n",
      "2019-10-23      60.525       60.795      79730180.0       60.127      56.758     58.7764        False         False          False          False           True           False             True            False\n",
      "2019-10-24      61.127       60.895      71665020.0       60.795      57.523     59.1801        False         False          False          False           True           False             True            False\n",
      "2019-10-25      60.790       61.645      73477184.0       60.895      58.593     59.5173        False         False          False          False           True           False             True            False\n",
      "2019-10-28      61.855       62.263      96572964.0       61.645      58.593     59.7765        False         False          False          False           True           False             True            False\n",
      "2019-10-29      62.242       60.822     142839468.0       62.263      58.593     60.1060        False         False          False          False           True           False             True            False\n",
      "2019-10-30      61.190       60.815     124522088.0       62.263      58.593     60.3052        False         False          False          False           True           False             True            False\n",
      "2019-10-31      61.810       62.190     139162080.0       62.263      58.820     60.5274        False         False          False          False           True           False             True            False\n",
      "2019-11-01      62.385       63.955     151125336.0       62.263      59.102     60.8644        False         False          False          False           True           False             True            False\n",
      "2019-11-04      64.332       64.375     103271808.0       63.955      59.990     61.3497        False         False          False          False           True           False             True            False\n",
      "2019-11-05      64.263       64.282      79897708.0       64.375      59.990     61.7745        False         False          False          False           True           False             True            False\n",
      "2019-11-06      64.192       64.310      75864496.0       64.375      60.795     62.2037        False         False          False          False           True           False             True            False\n",
      "2019-11-07      64.685       64.858      94940332.0       64.375      60.815     62.5552        False         False          False          False           True           False             True            False\n",
      "2019-11-08      64.672       65.035      70081980.0       64.858      60.815     62.9515        False         False          False          False           True           False             True            False\n",
      "2019-11-11      64.575       65.550      82029836.0       65.035      60.815     63.2905        False         False          False          False           True           False             True            False\n",
      "2019-11-12      65.388       65.490      87388904.0       65.550      60.815     63.6192        False         False          False          False           True           False             True            False\n",
      "2019-11-13      65.282       66.118     103270372.0       65.550      60.815     64.0860        False         False          False          False           True           False             True            False\n",
      "2019-11-14      65.938       65.660      89582224.0       66.118      62.190     64.6163        False         False          False          False           True           False             True            False\n",
      "2019-11-15      65.920       66.440     100374664.0       66.118      63.955     64.9633        False         False          False          False           True           False             True            False\n",
      "2019-11-18      66.450       66.775      86803588.0       66.440      64.282     65.2118        False         False          False          False           True           False             True            False\n",
      "2019-11-19      66.975       66.573      76278388.0       66.775      64.282     65.4518        False         False          False          False           True           False             True            False\n",
      "2019-11-20      66.385       65.797     106439676.0       66.775      64.310     65.6809        False         False          False          False           True           False             True            False\n",
      "2019-11-21      65.922       65.502     121395112.0       66.775      64.858     65.8296        False         False          False          False           True           False            False             True\n",
      "2019-11-22      65.647       65.445      65325052.0       66.775      65.035     65.8940        False          True          False          False          False           False            False            False\n",
      "2019-11-25      65.677       66.593      84118068.0       66.775      65.445     65.9350        False         False          False          False          False           False             True            False\n",
      "2019-11-26      66.735       66.073     105339528.0       66.775      65.445     66.0393        False         False          False          False          False           False             True            False\n",
      "2019-11-27      66.395       66.960      65544488.0       66.775      65.445     66.0976        False         False          False          False          False           False            False            False\n",
      "2019-11-29      66.650       66.813      46617452.0       66.960      65.445     66.1818         True         False          False          False           True           False            False            False\n",
      "2019-12-02      66.817       66.040      94774200.0       66.960      65.445     66.2971        False         False          False          False           True           False            False             True\n",
      "2019-12-03      64.578       64.862     117509072.0       66.960      65.445     66.2571        False         False          False          False           True           False            False             True\n",
      "2019-12-04      65.267       65.435      67241552.0       66.960      64.862     66.0658        False         False          False          False           True           False            False             True\n",
      "2019-12-05      65.948       66.395      74645372.0       66.960      64.862     65.9520        False         False          False          False           True           False             True            False\n",
      "2019-12-06      66.870       67.677     106189972.0       66.960      64.862     66.0118        False         False          False           True          False           False            False            False\n",
      "2019-12-09      67.500       66.730     128730580.0       67.677      64.862     66.2293        False         False          False          False          False           False             True            False\n",
      "2019-12-10      67.150       67.120      90529532.0       67.677      64.862     66.3578        False         False          False          False          False           False             True            False\n",
      "2019-12-11      67.203       67.692      78893564.0       67.677      64.862     66.4105        False         False          False          False          False           False            False            False\n",
      "2019-12-12      66.945       67.865     137748168.0       67.692      64.862     66.5724         True         False          False          False           True           False            False            False\n",
      "2019-12-13      67.865       68.787     133731224.0       67.865      64.862     66.6629        False         False          False          False           True           False             True            False\n",
      "2019-12-16      69.250       69.965     128324420.0       68.787      64.862     66.8603        False         False          False          False           True           False             True            False\n",
      "2019-12-17      69.892       70.103     114303192.0       69.965      64.862     67.2528        False         False          False          False           True           False             True            False\n",
      "2019-12-18      69.950       69.935     116098748.0       70.103      65.435     67.7769        False         False          False          False           True           False             True            False\n",
      "2019-12-19      69.875       70.005      98507788.0       70.103      66.395     68.2269        False         False          False          False           True           False             True            False\n",
      "2019-12-20      70.558       69.860     276130972.0       70.103      66.730     68.5879        False         False          False          False           True           False             True            False\n",
      "2019-12-23      70.132       71.000      98711532.0       70.103      66.730     68.8062        False         False          False          False           True           False             True            False\n",
      "2019-12-24      71.172       71.067      48478856.0       71.000      67.120     69.2332        False         False          False          False           True           False             True            False\n",
      "2019-12-26      71.205       72.478      93336016.0       71.067      67.692     69.6279        False         False          False          False           True           False             True            False\n",
      "2019-12-27      72.780       72.450     146371744.0       72.478      67.865     70.1065        False         False          False          False           True           False             True            False\n",
      "2019-12-30      72.365       72.880     144238456.0       72.478      68.787     70.5650        False         False          False          False           True           False             True            False\n",
      "2019-12-31      72.483       73.412     100990500.0       72.880      69.860     70.9743        False         False          False          False           True           False             True            False\n",
      "2020-01-02      74.060       75.088     135647456.0       73.412      69.860     71.3190        False         False          False          False           True           False             True            False\n",
      "2020-01-03      74.287       74.358     146535512.0       75.088      69.860     71.8175        False         False          False          False           True           False             True            False\n",
      "2020-01-06      73.448       74.950     117288824.0       75.088      69.860     72.2598        False         False          False          False           True           False             True            False\n",
      "2020-01-07      74.960       74.597     111510620.0       75.088      69.860     72.7543        False         False          False          False           True           False             True            False\n",
      "2020-01-08      74.290       75.797     132363784.0       75.088      71.000     73.2280        False         False          False          False           True           False             True            False\n",
      "2020-01-09      76.809       77.407     167082252.0       75.797      71.067     73.7077        False         False          False          False           True           False             True            False\n",
      "2020-01-10      77.650       77.582     140869088.0       77.407      72.450     74.3417        False         False          False          False           True           False             True            False\n",
      "2020-01-13      77.910       79.240     120114968.0       77.582      72.450     74.8521        False         False          False          False           True           False             True            False\n",
      "2020-01-14      79.175       78.170     162613828.0       79.240      72.880     75.5311        False         False          False          False           True           False             True            False\n",
      "2020-01-15      77.963       77.835     121923528.0       79.240      73.412     76.0601        False         False          False          False           True           False             True            False\n",
      "2020-01-16      78.397       78.810     108829016.0       79.240      74.358     76.5024        False         False          False          False           True           False             True            False\n",
      "2020-01-17      79.067       79.683     137816468.0       79.240      74.358     76.8746        False         False          False          False           True           False             True            False\n",
      "2020-01-21      79.297       79.142     108940156.0       79.683      74.597     77.4071        False         False          False          False           True           False             True            False\n",
      "2020-01-22      79.645       79.425     101832460.0       79.683      74.597     77.8263        False         False          False          False           True           False             True            False\n",
      "2020-01-23      79.480       79.808     104471972.0       79.683      75.797     78.3091        False         False          False          False           True           False             True            False\n",
      "2020-01-24      80.063       79.578     146537520.0       79.808      77.407     78.7102        False         False          False          False           True           False             True            False\n",
      "2020-01-27      77.515       77.237     161940020.0       79.808      77.582     78.9273        False         False          False          False           True           False            False             True\n",
      "2020-01-28      78.150       79.422     162233944.0       79.808      77.237     78.8928        False          True          False          False          False           False            False            False\n",
      "2020-01-29      81.112       81.085     216599712.0       79.808      77.237     78.9110        False         False          False          False          False           False            False            False\n",
      "2020-01-30      80.136       80.968     126743232.0       81.085      77.237     79.2025         True         False          False          False           True           False            False            False\n",
      "2020-01-31      80.233       77.377     199588384.0       81.085      77.237     79.5158        False         False          False          False           True           False            False             True\n",
      "2020-02-03      76.075       77.165     173985604.0       81.085      77.237     79.3725        False         False          False          False           True           False            False             True\n",
      "2020-02-04      78.828       79.713     136616536.0       81.085      77.165     79.1207        False         False          False          False           True           False             True            False\n",
      "2020-02-05      80.880       80.362     118826872.0       81.085      77.165     79.1778        False         False          False           True          False           False            False            False\n",
      "2020-02-06      80.642       81.302     105425540.0       81.085      77.165     79.2715        False         False          False          False          False           False            False            False\n",
      "2020-02-07      80.593       80.007     117684048.0       81.302      77.165     79.4209         True         False          False          False           True           False            False            False\n",
      "2020-02-10      78.545       80.388     109348860.0       81.302      77.165     79.4638        False         False          False          False           True           False             True            False\n",
      "2020-02-11      80.900       79.903      94323120.0       81.302      77.165     79.7789        False         False          False          False           True           False             True            False\n",
      "2020-02-12      80.368       81.800     113730292.0       81.302      77.165     79.8270        False         False          False          False           True           False             True            False\n",
      "2020-02-13      81.047       81.218      94747568.0       81.800      77.165     79.8985        False         False          False          False           True           False             True            False\n",
      "2020-02-14      81.183       81.237      80113788.0       81.800      77.165     79.9235        False         False          False          False           True           False             True            False\n",
      "2020-02-18      78.840       79.750     152762180.0       81.800      77.165     80.3095        False         False          False          False           True           False            False             True\n",
      "2020-02-19      80.000       80.905      93983964.0       81.800      79.713     80.5680        False          True          False          False          False           False            False            False\n",
      "2020-02-20      80.657       80.075     100565956.0       81.800      79.750     80.6872        False         False          False          False          False           False            False             True\n",
      "2020-02-21      79.655       78.263     129705660.0       81.800      79.750     80.6585        False         False          False          False          False           False            False            False\n",
      "2020-02-24      74.315       74.545     222195312.0       81.800      78.263     80.3546        False         False           True          False          False            True            False            False\n",
      "2020-02-25      75.237       72.020     230673456.0       81.800      74.545     79.8084        False         False          False          False          False            True            False             True\n",
      "2020-02-26      71.632       73.162     198713724.0       81.800      72.020     78.9716        False         False          False          False          False            True            False             True\n",
      "2020-02-27      70.275       68.380     320605524.0       81.800      72.020     78.2975        False         False          False          False          False            True            False             True\n",
      "2020-02-28      64.315       68.340     426884920.0       81.237      68.380     76.9555        False         False          False          False          False            True            False             True\n",
      "2020-03-02      70.570       74.703     341397356.0       81.237      68.340     75.6677        False         False          False          False          False            True            False             True\n",
      "2020-03-03      75.918       72.330     319475408.0       80.905      68.340     75.0143        False         False          False          False          False            True            False             True\n",
      "2020-03-04      74.110       75.685     219178272.0       80.905      68.340     74.2723        False         False          False          False          False            True             True            False\n",
      "2020-03-05      73.880       73.230     187572876.0       80.075      68.340     73.7503        False         False          False           True          False           False            False            False\n",
      "2020-03-06      70.500       72.257     226176984.0       78.263      68.340     73.0658        False         False          False          False          False           False            False             True\n",
      "2020-03-09      65.938       66.543     282534164.0       75.685      68.340     72.4652        False         False          False          False          False           False            False            False\n",
      "2020-03-10      69.285       71.335     285290080.0       75.685      66.543     71.6650        False         False           True          False          False            True            False            False\n",
      "2020-03-11      69.347       68.858     251274092.0       75.685      66.543     71.5965        False         False          False          False          False            True            False             True\n",
      "2020-03-12      63.985       62.057     418474068.0       75.685      66.543     71.1661        False         False          False          False          False            True            False             True\n",
      "2020-03-13      66.222       69.493     370732128.0       75.685      62.057     70.5338        False         False          False          False          False            True            False             True\n",
      "2020-03-16      60.487       60.553     317293276.0       75.685      62.057     70.6491        False         False          False          False          False            True            False             True\n",
      "2020-03-17      61.877       63.215     321976284.0       75.685      60.553     69.2341        False         False          False          False          False            True            False             True\n",
      "2020-03-18      59.943       61.667     300233624.0       75.685      60.553     68.3226        False         False          False          False          False            True            False             True\n",
      "2020-03-19      61.846       61.195     271857020.0       73.230      60.553     66.9208        False         False          False          False          False            True            False             True\n",
      "2020-03-20      61.795       57.310     401693384.0       72.257      60.553     65.7173        False         False          False          False          False            True            False             True\n",
      "2020-03-23      57.020       56.093     336752832.0       71.335      57.310     64.2226        False         False          False          False          False            True            False             True\n",
      "2020-03-24      59.090       61.720     287531092.0       71.335      56.093     63.1776        False         False          False          False          False            True            False             True\n",
      "2020-03-25      62.688       61.380     296674648.0       69.493      56.093     62.2161        False         False          False          False          False            True            False             True\n",
      "2020-03-26      61.630       64.610     252560676.0       69.493      56.093     61.4683        False         False          False          False          False            True             True            False\n",
      "2020-03-27      63.188       61.935     204216612.0       69.493      56.093     61.7236        False         False          False           True          False           False            False            False\n",
      "2020-03-30      62.685       63.703     167976440.0       64.610      56.093     60.9678        False         False          False          False          False           False             True            False\n",
      "2020-03-31      63.900       63.572     196157656.0       64.610      56.093     61.2828        False         False          False          False          False           False             True            False\n",
      "2020-04-01      61.625       60.227     174404196.0       64.610      56.093     61.3185        False         False          False          False          False           False            False             True\n",
      "2020-04-02      60.085       61.233     165273044.0       64.610      56.093     61.1745        False         False          False          False          False           False             True            False\n",
      "2020-04-03      60.700       60.352     129880068.0       64.610      56.093     61.1783        False         False          False          False          False           False            False             True\n",
      "2020-04-06      62.725       65.618     200351804.0       64.610      56.093     61.4825        False         False          False          False          False           False            False            False\n",
      "2020-04-07      67.700       64.858     202137960.0       65.618      60.227     62.4350         True         False          False          False           True           False            False            False\n",
      "2020-04-08      65.685       66.517     164829120.0       65.618      60.227     62.7488        False         False          False          False           True           False             True            False\n",
      "2020-04-09      67.175       66.998     161252424.0       66.517      60.227     63.2625        False         False          False          False           True           False             True            False\n",
      "2020-04-13      67.078       68.313     131022924.0       66.998      60.227     63.5013        False         False          False          False           True           False             True            False\n",
      "2020-04-14      70.000       71.763     194994688.0       68.313      60.227     64.1391        False         False          False          False           True           False             True            False\n",
      "2020-04-15      70.600       71.108     131154564.0       71.763      60.227     64.9451        False         False          False          False           True           False             True            False\n",
      "2020-04-16      71.845       71.672     157125160.0       71.763      60.227     65.6987        False         False          False          False           True           False             True            False\n",
      "2020-04-17      71.172       70.700     215249912.0       71.763      60.352     66.8432        False         False          False          False           True           False             True            False\n",
      "2020-04-20      69.487       69.233     127949604.0       71.763      60.352     67.7899        False         False          False          False           True           False             True            False\n",
      "2020-04-21      69.070       67.093     180991572.0       71.763      64.858     68.6780        False         False          False          False           True           False            False             True\n",
      "2020-04-22      68.403       69.025     114432336.0       71.763      64.858     68.8255        False          True          False          False          False           False            False            False\n",
      "2020-04-23      68.968       68.757     123426528.0       71.763      66.517     69.2422        False         False          False          False          False           False            False             True\n",
      "2020-04-24      69.300       70.743     126508732.0       71.763      66.998     69.4662        False         False          False          False          False           False             True            False\n",
      "2020-04-27      70.450       70.793     116821920.0       71.763      67.093     69.8407        False         False          False          False          False           False             True            False\n",
      "2020-04-28      71.270       69.645     109034440.0       71.763      67.093     70.0887        False         False          False          False          False           False            False             True\n",
      "2020-04-29      71.183       71.933     137280816.0       71.672      67.093     69.8769        False         False          False          False          False           False            False            False\n",
      "2020-04-30      72.490       73.450     183063872.0       71.933      67.093     69.9594         True         False          False          False           True           False            False            False\n",
      "2020-05-01      71.563       72.267     240616700.0       73.450      67.093     70.1372        False         False          False          False           True           False             True            False\n",
      "2020-05-04      72.293       73.290     133567944.0       73.450      67.093     70.2939        False         False          False          False           True           False             True            False\n",
      "2020-05-05      73.765       74.390     147751180.0       73.450      67.093     70.6996        False         False          False          False           True           False             True            False\n",
      "2020-05-06      75.115       75.157     142333752.0       74.390      68.757     71.4293        False         False          False          False           True           False             True            False\n",
      "2020-05-07      75.805       75.935     115215056.0       75.157      68.757     72.0425        False         False          False          False           True           False             True            False\n",
      "2020-05-08      76.410       77.532     134047940.0       75.935      69.645     72.7603        False         False          False          False           True           False             True            False\n",
      "2020-05-11      77.025       78.752     145186952.0       77.532      69.645     73.4392        False         False          False          False           True           False             True            False\n",
      "2020-05-12      79.457       77.853     158867852.0       78.752      69.645     74.2351        False         False          False          False           True           False             True            False\n",
      "2020-05-13      78.037       76.912     200622556.0       78.752      71.933     75.0559        False         False          False          False           True           False             True            False\n",
      "2020-05-14      76.127       77.385     158929076.0       78.752      72.267     75.5538        False         False          False          False           True           False             True            False\n",
      "2020-05-15      75.088       76.927     164073664.0       78.752      72.267     75.9473        False         False          False          False           True           False             True            False\n",
      "2020-05-18      78.293       78.740     135372500.0       78.752      73.290     76.4133        False         False          False          False           True           False             True            False\n",
      "2020-05-19      78.757       78.285     101729540.0       78.752      74.390     76.9583        False         False          False          False           True           False             True            False\n",
      "2020-05-20      79.170       79.808     111504860.0       78.752      75.157     77.3478        False         False          False          False           True           False             True            False\n",
      "2020-05-21      79.665       79.213     102688844.0       79.808      75.935     77.8129        False         False          False          False           True           False             True            False\n",
      "2020-05-22      78.942       79.722      81803016.0       79.808      76.912     78.1407        False         False          False          False           True           False             True            False\n",
      "2020-05-26      80.875       79.183     125521816.0       79.808      76.912     78.3597        False         False          False          False           True           False             True            False\n",
      "2020-05-27      79.035       79.528     112945096.0       79.808      76.912     78.4028        False         False          False          False           True           False             True            False\n",
      "2020-05-28      79.192       79.563     133796412.0       79.808      76.912     78.5703        False         False          False          False           True           False             True            False\n",
      "2020-05-29      79.813       79.485     153598128.0       79.808      76.927     78.8354        False         False          False          False           True           False             True            False\n",
      "2020-06-01      79.438       80.463      81018612.0       79.808      76.927     79.0454        False         False          False          False           True           False             True            False\n",
      "2020-06-02      80.186       80.835      87019260.0       80.463      78.285     79.3990        False         False          False          False           True           False             True            False\n",
      "2020-06-03      81.165       81.280     104281476.0       80.835      78.285     79.6085        False         False          False          False           True           False             True            False\n",
      "2020-06-04      81.097       80.580      85441932.0       81.280      79.183     79.9080        False         False          False          False           True           False             True            False\n",
      "2020-06-05      80.838       82.875     137250200.0       81.280      79.183     79.9852        False         False          False          False           True           False             True            False\n",
      "2020-06-08      82.563       83.365      95407900.0       82.875      79.183     80.3514        False         False          False          False           True           False             True            False\n",
      "2020-06-09      83.035       85.998     147712364.0       83.365      79.183     80.7157        False         False          False          False           True           False             True            False\n",
      "2020-06-10      86.975       88.210     165423144.0       85.998      79.485     81.3972        False         False          False          False           True           False             True            False\n",
      "2020-06-11      87.328       83.975     198270700.0       88.210      79.485     82.2654        False         False          False          False           True           False             True            False\n",
      "2020-06-12      86.180       84.700     200146052.0       88.210      79.485     82.7066        False         False          False          False           True           False             True            False\n",
      "2020-06-15      83.313       85.748     138808920.0       88.210      80.463     83.2281        False         False          False          False           True           False             True            False\n",
      "2020-06-16      87.865       88.020     164436052.0       88.210      80.580     83.7566        False         False          False          False           True           False             True            False\n",
      "2020-06-17      88.787       87.897     114406504.0       88.210      80.580     84.4751        False         False          False          False           True           False             True            False\n",
      "2020-06-18      87.853       87.933      94421232.0       88.210      80.580     85.1368        False         False          False          False           True           False             True            False\n",
      "2020-06-19      88.659       87.430     264475808.0       88.210      82.875     85.8721        False         False          False          False           True           False             True            False\n",
      "2020-06-22      87.835       89.718     134038636.0       88.210      83.365     86.3276        False         False          False          False           True           False             True            False\n",
      "2020-06-23      91.000       91.632     212155476.0       89.718      83.975     86.9629        False         False          False          False           True           False             True            False\n",
      "2020-06-24      91.250       90.015     190982340.0       91.632      83.975     87.5263        False         False          False          False           True           False             True            False\n",
      "2020-06-25      90.175       91.210     136222032.0       91.632      83.975     87.7068        False         False          False          False           True           False             True            False\n",
      "2020-06-26      91.103       88.407     205256844.0       91.632      84.700     88.4303        False         False          False          False           True           False            False             True\n",
      "2020-06-29      88.313       90.445     129839052.0       91.632      85.748     88.8010        False          True          False          False          False           False            False            False\n",
      "2020-06-30      90.020       91.200     139190968.0       91.632      87.430     89.2707        False         False          False          False          False           False             True            False\n",
      "2020-07-01      91.280       91.028     109052836.0       91.632      87.430     89.5887        False         False          False          False          False           False             True            False\n",
      "2020-07-02      91.963       91.028     111057880.0       91.632      87.430     89.9018        False         False          False          False          False           False             True            False\n",
      "2020-07-06      92.500       93.463     115944308.0       91.632      87.430     90.2113        False         False          False          False          False           False            False            False\n",
      "2020-07-07      93.853       93.172     112827996.0       93.463      88.407     90.8146         True         False          False          False           True           False            False            False\n",
      "2020-07-08      94.180       95.343     115523504.0       93.463      88.407     91.1600        False         False          False          False           True           False             True            False\n",
      "2020-07-09      96.263       95.683     123026536.0       95.343      88.407     91.5311        False         False          False          False           True           False             True            False\n",
      "2020-07-10      95.335       95.920      90257320.0       95.683      88.407     92.0979        False         False          False          False           True           False             True            False\n",
      "2020-07-13      97.265       95.478     188132988.0       95.920      88.407     92.5689        False         False          False          False           True           False             True            False\n",
      "2020-07-14      94.840       97.058     166204064.0       95.920      90.445     93.2760        False         False          False          False           True           False             True            False\n",
      "2020-07-15      98.990       97.725     150660352.0       97.058      91.028     93.9373        False         False          False          False           True           False             True            False\n",
      "2020-07-16      96.563       96.522     107259048.0       97.725      91.028     94.5898        False         False          False          False           True           False             True            False\n",
      "2020-07-17      96.987       96.328      92187020.0       97.725      91.028     95.1392        False         False          False          False           True           False             True            False\n",
      "2020-07-20      96.416       98.358      89588832.0       97.725      93.172     95.6692        False         False          False          False           True           False             True            False\n",
      "2020-07-21      99.172       97.000     103648916.0       98.358      93.172     96.1587        False         False          False          False           True           False             True            False\n",
      "2020-07-22      96.692       97.272      82360080.0       98.358      95.343     96.5415        False         False          False          False           True           False             True            False\n",
      "2020-07-23      96.998       92.845     197004432.0       98.358      95.478     96.7344        False         False          False          False           True           False            False             True\n",
      "2020-07-24      90.987       92.615     185438864.0       98.358      92.845     96.4506        False          True          False          False          False           False            False            False\n",
      "2020-07-27      93.710       94.810     117879876.0       98.358      92.615     96.1201        False         False          False          False          False           False            False             True\n",
      "2020-07-28      94.368       93.252     101245172.0       98.358      92.615     96.0533        False         False          False          False          False           False            False             True\n",
      "2020-07-29      93.750       95.040      87272372.0       98.358      92.615     95.6727        False         False          False          False          False           False            False             True\n",
      "2020-07-30      94.188       96.190     126407408.0       98.358      92.615     95.4042        False         False          False          False          False           False             True            False\n",
      "2020-07-31     102.884      106.260     374295468.0       98.358      92.615     95.3710        False         False          False          False          False           False            False            False\n",
      "2020-08-03     108.200      108.938     307269208.0      106.260      92.615     96.3642         True         False          False          False           True           False            False            False\n",
      "2020-08-04     109.132      109.665     172792368.0      108.938      92.615     97.4222        False         False          False          False           True           False             True            False\n",
      "2020-08-05     109.377      110.063     120102788.0      109.665      92.615     98.6887        False         False          False          False           True           False             True            False\n",
      "2020-08-06     110.405      113.903     202428900.0      110.063      92.615     99.9678        False         False          False          False           True           False             True            False\n",
      "2020-08-07     113.205      111.112     198045612.0      113.903      92.615    102.0736        False         False          False          False           True           False             True            False\n",
      "2020-08-10     112.600      112.728     212403424.0      113.903      93.252    103.9233        False         False          False          False           True           False             True            False\n",
      "2020-08-11     111.969      109.375     185915844.0      113.903      93.252    105.7151        False         False          False          False           True           False             True            False\n",
      "2020-08-12     110.498      113.010     164514552.0      113.903      95.040    107.3274        False         False          False          False           True           False             True            False\n",
      "2020-08-13     114.430      115.010     201950304.0      113.903      96.190    109.1244        False         False          False          False           True           False             True            False\n",
      "2020-08-14     114.829      114.907     165565208.0      115.010     106.260    111.0064        False         False          False          False           True           False             True            False\n",
      "2020-08-17     116.063      114.608     117725656.0      115.010     108.938    111.8711        False         False          False          False           True           False             True            False\n",
      "2020-08-18     114.353      115.563     104095732.0      115.010     109.375    112.4381        False         False          False          False           True           False             True            False\n",
      "2020-08-19     115.983      115.707     144547048.0      115.563     109.375    113.0279        False         False          False          False           True           False             True            False\n",
      "2020-08-20     115.750      118.275     125313344.0      115.707     109.375    113.5923        False         False          False          False           True           False             True            False\n",
      "2020-08-21     119.263      124.370     338054640.0      118.275     109.375    114.0295        False         False          False          False           True           False             True            False\n",
      "2020-08-24     128.697      125.858     343339388.0      124.370     109.375    115.3553        False         False          False          False           True           False             True            False\n",
      "2020-08-25     124.698      124.825     208941716.0      125.858     109.375    116.6683        False         False          False          False           True           False             True            False\n",
      "2020-08-26     126.179      126.522     161004836.0      125.858     113.010    118.2133        False         False          False          False           True           False             True            False\n",
      "2020-08-27     127.142      125.010     154146696.0      126.522     114.608    119.5645        False         False          False          False           True           False             True            False\n",
      "2020-08-28     126.013      124.808     187629916.0      126.522     114.608    120.5645        False         False          False          False           True           False             True            False\n",
      "2020-08-31     127.580      129.040     223505733.0      126.522     114.608    121.5546        False         False          False          False           True           False             True            False\n",
      "2020-09-01     132.760      134.180     150698946.0      129.040     115.563    122.9978        False         False          False          False           True           False             True            False\n",
      "2020-09-02     137.590      131.400     198233370.0      134.180     115.707    124.8595        False         False          False          False           True           False             True            False\n",
      "2020-09-03     126.910      120.880     250623616.0      134.180     118.275    126.4288        False         False          False          False           True           False            False             True\n",
      "2020-09-04     120.070      120.960     332607163.0      134.180     120.880    126.6893        False          True          False          False          False           False            False            False\n",
      "2020-09-08     113.950      112.820     226149287.0      134.180     120.880    126.3483        False         False          False          False          False           False            False            False\n",
      "2020-09-09     117.260      117.320     172144189.0      134.180     112.820    125.0445        False         False           True          False          False            True            False            False\n",
      "2020-09-10     120.360      113.490     182274391.0      134.180     112.820    124.2940        False         False          False          False          False            True            False             True\n",
      "2020-09-11     114.570      112.000     180860325.0      134.180     112.820    122.9908        False         False          False          False          False            True            False             True\n",
      "2020-09-14     114.720      115.355     138248838.0      134.180     112.000    121.6898        False         False          False          False          False            True            False             True\n",
      "2020-09-15     118.330      115.540     182985051.0      134.180     112.000    120.7445        False         False          False          False          False            True            False             True\n",
      "2020-09-16     115.230      112.130     153804096.0      134.180     112.000    119.3945        False         False          False          False          False            True            False             True\n",
      "2020-09-17     109.720      110.340     176909480.0      131.400     112.000    117.1895        False         False          False          False          False            True            False             True\n",
      "2020-09-18     110.400      106.840     284477372.0      120.960     110.340    115.0835        False         False          False          False          False            True            False             True\n",
      "2020-09-21     104.540      110.080     193321297.0      120.960     106.840    113.6795        False         False          False          False          False            True            False             True\n",
      "2020-09-22     112.680      111.810     181592150.0      117.320     106.840    112.5915        False         False          False          False          False            True            False             True\n",
      "2020-09-23     111.620      107.120     148510882.0      117.320     106.840    112.4905        False         False          False          False          False            True            False             True\n",
      "2020-09-24     105.170      108.220     167743349.0      115.540     106.840    111.4705        False         False          False          False          False            True            False             True\n",
      "2020-09-25     108.430      112.280     149981441.0      115.540     106.840    110.9435        False         False          False          False          False            True             True            False\n",
      "2020-09-28     115.010      114.960     136441425.0      115.540     106.840    110.9715        False         False          False           True          False           False            False            False\n",
      "2020-09-29     114.550      114.090      98636389.0      115.540     106.840    110.9320        False         False          False          False          False           False             True            False\n",
      "2020-09-30     113.790      115.810     141667323.0      114.960     106.840    110.7870        False         False          False          False          False           False            False            False\n",
      "2020-10-01     117.640      116.790     114958231.0      115.810     106.840    111.1550         True         False          False          False           True           False            False            False\n",
      "2020-10-02     112.890      113.020     144711986.0      116.790     106.840    111.8000        False         False          False          False           True           False             True            False\n",
      "2020-10-05     113.910      116.500     105392594.0      116.790     107.120    112.4180        False         False          False          False           True           False             True            False\n",
      "2020-10-06     115.700      113.160     159519440.0      116.790     107.120    113.0600        False         False          False          False           True           False             True            False\n",
      "2020-10-07     114.620      115.080      96135446.0      116.790     107.120    113.1950        False         False          False          False           True           False             True            False\n",
      "2020-10-08     116.250      114.970      82322071.0      116.790     108.220    113.9910        False         False          False          False           True           False             True            False\n",
      "2020-10-09     115.280      116.970     100506865.0      116.790     112.280    114.6660        False         False          False          False           True           False             True            False\n",
      "2020-10-12     120.060      124.400     236262242.0      116.970     113.020    115.1350        False         False          False          False           True           False             True            False\n",
      "2020-10-13     125.270      121.100     260497701.0      124.400     113.020    116.0790        False         False          False          False           True           False             True            False\n",
      "2020-10-14     121.000      121.190     150268765.0      124.400     113.020    116.7800        False         False          False          False           True           False             True            False\n",
      "2020-10-15     118.720      120.710     111278956.0      124.400     113.020    117.3180        False         False          False          False           True           False             True            False\n",
      "2020-10-16     121.280      119.020     115393808.0      124.400     113.020    117.7100        False         False          False          False           True           False             True            False\n",
      "2020-10-19     119.960      115.980     119366165.0      124.400     113.160    118.3100        False         False          False          False           True           False            False             True\n",
      "2020-10-20     116.200      117.510     124423728.0      124.400     113.160    118.2580        False          True          False          False          False           False            False            False\n",
      "2020-10-21     116.670      116.870      89945980.0      124.400     114.970    118.6930        False         False          False          False          False           False            False             True\n",
      "2020-10-22     117.450      115.750     101354341.0      124.400     114.970    118.8720        False         False          False          False          False           False            False             True\n",
      "2020-10-23     116.390      115.040      82572645.0      124.400     115.750    118.9500        False         False          False          False          False           False            False            False\n",
      "2020-10-26     114.010      115.050     109974392.0      124.400     115.040    118.7570        False         False           True          False          False            True            False            False\n",
      "2020-10-27     115.490      116.600      90967291.0      121.190     115.040    117.8220        False         False          False          False          False            True            False             True\n",
      "2020-10-28     115.050      111.200     142355296.0      121.190     115.040    117.3720        False         False          False          False          False            True            False             True\n",
      "2020-10-29     112.370      115.320     146129173.0      120.710     111.200    116.3730        False         False          False          False          False            True            False             True\n",
      "2020-10-30     111.060      108.860     190573476.0      119.020     111.200    115.8340        False         False          False          False          False            True            False             True\n",
      "2020-11-02     109.110      108.770     122866899.0      117.510     108.860    114.8180        False         False          False          False          False            True            False             True\n",
      "2020-11-03     109.660      110.440     107624448.0      117.510     108.770    114.0970        False         False          False          False          False            True            False             True\n",
      "2020-11-04     114.140      114.950     138235482.0      116.870     108.770    113.3900        False         False          False          False          False            True             True            False\n",
      "2020-11-05     117.950      119.030     125201932.0      116.600     108.770    113.1980        False         False          False           True          False           False            False            False\n",
      "2020-11-06     118.320      118.690     114457922.0      119.030     108.770    113.5260        False         False          False          False          False           False             True            False\n",
      "2020-11-09     120.500      116.320     154515315.0      119.030     108.770    113.8910        False         False          False          False          False           False             True            False\n",
      "2020-11-10     115.550      115.970     133345001.0      119.030     108.770    114.0180        False         False          False          False          False           False             True            False\n",
      "2020-11-11     117.190      119.490     112294954.0      119.030     108.770    113.9550        False         False          False          False          False           False            False            False\n",
      "2020-11-12     119.620      119.210     103350674.0      119.490     108.770    114.7840         True         False          False          False           True           False            False            False\n",
      "2020-11-13     119.440      119.260      81688586.0      119.490     108.770    115.1730        False         False          False          False           True           False             True            False\n",
      "2020-11-16     118.920      120.300      91183018.0      119.490     108.770    116.2130        False         False          False          False           True           False             True            False\n",
      "2020-11-17     119.550      119.390      74270973.0      120.300     110.440    117.3660        False         False          False          False           True           False             True            False\n",
      "2020-11-18     118.610      118.030      74550131.0      120.300     114.950    118.2610        False         False          False          False           True           False            False             True\n",
      "2020-11-19     117.590      118.640      74112972.0      120.300     115.970    118.5690        False          True          False          False          False           False            False            False\n",
      "2020-11-20     118.640      117.340      71568288.0      120.300     115.970    118.5300        False         False          False          False          False           False            False             True\n",
      "2020-11-23     117.180      113.850     125934410.0      120.300     115.970    118.3950        False         False          False          False          False           False            False            False\n",
      "2020-11-24     113.910      115.170     113226248.0      120.300     113.850    118.1480        False         False           True          False          False            True            False            False\n",
      "2020-11-25     115.550      116.030      76226384.0      120.300     113.850    118.0680        False         False          False          False          False            True            False             True\n",
      "2020-11-27     116.570      116.590      46691331.0      120.300     113.850    117.7220        False         False          False          False          False            True            False             True\n",
      "2020-11-30     116.970      119.050     169410176.0      120.300     113.850    117.4600        False         False          False          False          False            True             True            False\n",
      "2020-12-01     121.010      122.720     125920963.0      120.300     113.850    117.4390        False         False          False           True          False           False            False            False\n",
      "2020-12-02     122.020      123.080      89004195.0      122.720     113.850    117.6810        False         False          False          False          False           False            False            False\n",
      "2020-12-03     123.520      122.940      78967630.0      123.080     113.850    118.0500         True         False          False          False           True           False            False            False\n",
      "2020-12-04     122.600      122.250      78260421.0      123.080     113.850    118.5410        False         False          False          False           True           False             True            False\n",
      "2020-12-07     122.310      123.750      86711990.0      123.080     113.850    118.9020        False         False          False          False           True           False             True            False\n",
      "2020-12-08     124.370      124.380      82225512.0      123.750     113.850    119.5430        False         False          False          False           True           False             True            False\n",
      "2020-12-09     124.530      121.780     115089193.0      124.380     115.170    120.5960        False         False          False          False           True           False             True            False\n",
      "2020-12-10     120.500      123.240      81312170.0      124.380     116.030    121.2570        False         False          False          False           True           False             True            False\n",
      "2020-12-11     122.430      122.410      86939786.0      124.380     116.590    121.9780        False         False          False          False           True           False             True            False\n",
      "2020-12-14     122.600      121.780      79075988.0      124.380     119.050    122.5600        False         False          False          False           True           False            False             True\n",
      "2020-12-15     124.340      127.880     157572262.0      124.380     121.780    122.8330        False          True          False          False          False           False            False            False\n",
      "2020-12-16     127.410      127.810      98208591.0      127.880     121.780    123.3490        False         False          False          False          False           False             True            False\n",
      "2020-12-17     128.900      128.700      94359811.0      127.880     121.780    123.8220        False         False          False          False          False           False            False            False\n",
      "2020-12-18     128.960      126.655     192541496.0      128.700     121.780    124.3980         True         False          False          False           True           False            False            False\n",
      "2020-12-21     125.020      128.230     121251553.0      128.700     121.780    124.8385        False         False          False          False           True           False             True            False\n",
      "2020-12-22     131.610      131.880     169351825.0      128.700     121.780    125.2865        False         False          False          False           True           False             True            False\n",
      "2020-12-23     132.160      130.960      87689496.0      131.880     121.780    126.0365        False         False          False          False           True           False             True            False\n",
      "2020-12-24     131.320      131.970      54902010.0      131.880     121.780    126.9545        False          True          False          False          False           False            False            False \n",
      "\n",
      "1 trading models generated!\n"
     ]
    }
   ],
   "source": [
    "# Build the collection of trading models by iterating through the parameters\n",
    "trading_model_collection = {}\n",
    "serial_no = 0\n",
    "for window_size in range(WINDOW_MIN, WINDOW_MAX+1, WINDOW_INCREMENT):\n",
    "    serial_no += 1\n",
    "    model_tag = 'Model_' + str(serial_no).zfill(3) + '_WINDOW_' + str(window_size).zfill(2)\n",
    "    if verbose_signals: print('Processing model:', model_tag)\n",
    "    trading_model = populate_signals(window_size)\n",
    "    trading_model_collection[model_tag] = trading_model.copy()\n",
    "print(len(trading_model_collection), 'trading models generated!')"
   ]
  },
  {
   "cell_type": "code",
   "execution_count": 107,
   "metadata": {
    "colab": {
     "base_uri": "https://localhost:8080/",
     "height": 1000
    },
    "colab_type": "code",
    "collapsed": false,
    "id": "327CZKmtTelL",
    "jupyter": {
     "outputs_hidden": false
    },
    "outputId": "b353b49d-0281-4aa7-a530-6747c166eae5",
    "pycharm": {
     "name": "#%%\n"
    }
   },
   "outputs": [],
   "source": [
    "# List the entry/exit points for each model\n",
    "def list_model_entry_exit(trade_model):\n",
    "    print(trade_model[trade_model['buy_on_open'] | trade_model['sell_on_open'] | trade_model['short_on_open'] | trade_model['cover_on_open']])"
   ]
  },
  {
   "cell_type": "code",
   "execution_count": 108,
   "metadata": {
    "collapsed": false,
    "jupyter": {
     "outputs_hidden": false
    },
    "pycharm": {
     "name": "#%%\n"
    }
   },
   "outputs": [
    {
     "name": "stdout",
     "output_type": "stream",
     "text": [
      "List the signal changes and entry/exit points for model: Model_001_WINDOW_10\n",
      "            open_price  close_price  trading_volume  window_high  window_low  window_avg  buy_on_open  sell_on_open  short_on_open  cover_on_open  position_long  position_short  close_above_avg  close_below_avg\n",
      "date                                                                                                                                                                                                              \n",
      "2019-01-04      36.133       37.065     234428280.0       40.222      35.547     38.5669        False         False           True          False          False            True            False            False\n",
      "2019-01-10      38.125       38.450     143122680.0       39.480      35.547     38.1913        False         False          False           True          False           False            False            False\n",
      "2019-01-18      39.375       39.205     135004092.0       38.965      36.983     38.0053         True         False          False          False           True           False            False            False\n",
      "2019-01-25      38.870       39.440     134191572.0       39.205      37.500     38.4174        False          True          False          False          False           False            False            False\n",
      "2019-01-31      41.528       41.610     162958596.0       41.313      38.175     39.0383         True         False          False          False           True           False            False            False\n",
      "2019-02-19      42.428       42.733      75891304.0       43.560      42.358     42.8185        False          True          False          False          False           False            False            False\n",
      "2019-02-25      43.540       43.557      87493432.0       43.242      42.358     42.7280         True         False          False          False           True           False            False            False\n",
      "2019-03-08      42.580       43.227      95997432.0       43.962      43.125     43.5730        False          True          False          False          False           False            False            False\n",
      "2019-03-12      45.000       45.227     129870336.0       44.725      43.125     43.6883         True         False          False          False           True           False            False            False\n",
      "2019-03-27      47.188       47.117     119393708.0       48.773      45.428     46.8986        False          True          False          False          False           False            False            False\n",
      "2019-04-04      48.697       48.922      76457100.0       48.837      46.697     47.7354         True         False          False          False           True           False            False            False\n",
      "2019-05-01      52.470       52.630     259309312.0       51.870      49.813     51.0068        False          True          False          False          False           False            False            False\n",
      "2019-05-06      51.072       52.120     129772452.0       52.938      50.167     51.6364         True         False          False          False           True           False            False            False\n",
      "2019-06-05      46.070       45.635     119093708.0       46.650      43.325     44.7481        False         False          False           True          False           False            False            False\n",
      "2019-06-07      46.627       47.538     122737572.0       46.305      43.325     44.7076         True         False          False          False           True           False            False            False\n",
      "2019-06-26      49.443       49.950     104270048.0       49.865      48.185     49.0919        False          True          False          False          False           False            False            False\n",
      "2019-07-02      50.352       50.682      67740868.0       50.388      48.892     49.6930         True         False          False          False           True           False            False            False\n",
      "2019-07-09      49.800       50.310      82312060.0       51.102      48.892     50.1136        False          True          False          False          False           False            False            False\n",
      "2019-07-16      51.148       51.125      67467264.0       51.303      50.005     50.6917         True         False          False          False           True           False            False            False\n",
      "2019-07-22      50.913       51.805      89111728.0       51.415      50.005     50.7713        False          True          False          False          False           False            False            False\n",
      "2019-07-24      51.917       52.167      59966268.0       52.210      50.438     51.1413         True         False          False          False           True           False            False            False\n",
      "2019-08-05      49.498       48.335     209571876.0       53.260      51.005     52.0860        False          True          False          False          False           False            False            False\n",
      "2019-08-20      52.720       52.590     107678116.0       52.587      49.250     50.7813         True         False          False          False           True           False            False            False\n",
      "2019-08-26      51.465       51.623     104264520.0       53.160      50.120     51.7222        False          True          False          False          False           False            False            False\n",
      "2019-09-06      53.513       53.315      76928340.0       53.320      50.660     51.9300         True         False          False          False           True           False            False            False\n",
      "2019-09-23      54.737       54.680      77678592.0       55.898      53.542     54.9589        False          True          False          False          False           False            False            False\n",
      "2019-10-01      56.267       56.148     144748652.0       55.992      54.420     55.0567         True         False          False          False           True           False            False            False\n",
      "2019-10-04      56.410       56.752     139022212.0       56.148      54.420     55.0552        False         False          False           True          False           False            False            False\n",
      "2019-10-08      56.455       56.100     117130800.0       56.765      54.420     55.4957         True         False          False          False           True           False            False            False\n",
      "2019-11-22      65.647       65.445      65325052.0       66.775      65.035     65.8940        False          True          False          False          False           False            False            False\n",
      "2019-11-29      66.650       66.813      46617452.0       66.960      65.445     66.1818         True         False          False          False           True           False            False            False\n",
      "2019-12-06      66.870       67.677     106189972.0       66.960      64.862     66.0118        False         False          False           True          False           False            False            False\n",
      "2019-12-12      66.945       67.865     137748168.0       67.692      64.862     66.5724         True         False          False          False           True           False            False            False\n",
      "2020-01-28      78.150       79.422     162233944.0       79.808      77.237     78.8928        False          True          False          False          False           False            False            False\n",
      "2020-01-30      80.136       80.968     126743232.0       81.085      77.237     79.2025         True         False          False          False           True           False            False            False\n",
      "2020-02-05      80.880       80.362     118826872.0       81.085      77.165     79.1778        False         False          False           True          False           False            False            False\n",
      "2020-02-07      80.593       80.007     117684048.0       81.302      77.165     79.4209         True         False          False          False           True           False            False            False\n",
      "2020-02-19      80.000       80.905      93983964.0       81.800      79.713     80.5680        False          True          False          False          False           False            False            False\n",
      "2020-02-24      74.315       74.545     222195312.0       81.800      78.263     80.3546        False         False           True          False          False            True            False            False\n",
      "2020-03-05      73.880       73.230     187572876.0       80.075      68.340     73.7503        False         False          False           True          False           False            False            False\n",
      "2020-03-10      69.285       71.335     285290080.0       75.685      66.543     71.6650        False         False           True          False          False            True            False            False\n",
      "2020-03-27      63.188       61.935     204216612.0       69.493      56.093     61.7236        False         False          False           True          False           False            False            False\n",
      "2020-04-07      67.700       64.858     202137960.0       65.618      60.227     62.4350         True         False          False          False           True           False            False            False\n",
      "2020-04-22      68.403       69.025     114432336.0       71.763      64.858     68.8255        False          True          False          False          False           False            False            False\n",
      "2020-04-30      72.490       73.450     183063872.0       71.933      67.093     69.9594         True         False          False          False           True           False            False            False\n",
      "2020-06-29      88.313       90.445     129839052.0       91.632      85.748     88.8010        False          True          False          False          False           False            False            False\n",
      "2020-07-07      93.853       93.172     112827996.0       93.463      88.407     90.8146         True         False          False          False           True           False            False            False\n",
      "2020-07-24      90.987       92.615     185438864.0       98.358      92.845     96.4506        False          True          False          False          False           False            False            False\n",
      "2020-08-03     108.200      108.938     307269208.0      106.260      92.615     96.3642         True         False          False          False           True           False            False            False\n",
      "2020-09-04     120.070      120.960     332607163.0      134.180     120.880    126.6893        False          True          False          False          False           False            False            False\n",
      "2020-09-09     117.260      117.320     172144189.0      134.180     112.820    125.0445        False         False           True          False          False            True            False            False\n",
      "2020-09-28     115.010      114.960     136441425.0      115.540     106.840    110.9715        False         False          False           True          False           False            False            False\n",
      "2020-10-01     117.640      116.790     114958231.0      115.810     106.840    111.1550         True         False          False          False           True           False            False            False\n",
      "2020-10-20     116.200      117.510     124423728.0      124.400     113.160    118.2580        False          True          False          False          False           False            False            False\n",
      "2020-10-26     114.010      115.050     109974392.0      124.400     115.040    118.7570        False         False           True          False          False            True            False            False\n",
      "2020-11-05     117.950      119.030     125201932.0      116.600     108.770    113.1980        False         False          False           True          False           False            False            False\n",
      "2020-11-12     119.620      119.210     103350674.0      119.490     108.770    114.7840         True         False          False          False           True           False            False            False\n",
      "2020-11-19     117.590      118.640      74112972.0      120.300     115.970    118.5690        False          True          False          False          False           False            False            False\n",
      "2020-11-24     113.910      115.170     113226248.0      120.300     113.850    118.1480        False         False           True          False          False            True            False            False\n",
      "2020-12-01     121.010      122.720     125920963.0      120.300     113.850    117.4390        False         False          False           True          False           False            False            False\n",
      "2020-12-03     123.520      122.940      78967630.0      123.080     113.850    118.0500         True         False          False          False           True           False            False            False\n",
      "2020-12-15     124.340      127.880     157572262.0      124.380     121.780    122.8330        False          True          False          False          False           False            False            False\n",
      "2020-12-18     128.960      126.655     192541496.0      128.700     121.780    124.3980         True         False          False          False           True           False            False            False\n",
      "2020-12-24     131.320      131.970      54902010.0      131.880     121.780    126.9545        False          True          False          False          False           False            False            False\n",
      "\n"
     ]
    }
   ],
   "source": [
    "if verbose_models:\n",
    "    for model_name in trading_model_collection:\n",
    "        print('List the signal changes and entry/exit points for model:', model_name)\n",
    "        list_model_entry_exit(trading_model_collection[model_name])\n",
    "        print()"
   ]
  },
  {
   "cell_type": "code",
   "execution_count": 109,
   "metadata": {
    "colab": {
     "base_uri": "https://localhost:8080/",
     "height": 1000
    },
    "colab_type": "code",
    "collapsed": false,
    "id": "XEyJXVxcTelS",
    "jupyter": {
     "outputs_hidden": false
    },
    "outputId": "c74ac3e9-fbd3-4e73-8294-f12d0cce88dc",
    "pycharm": {
     "name": "#%%\n"
    }
   },
   "outputs": [],
   "source": [
    "def draw_model_graph(trade_model, mdl_name=STOCK_SYMBOL):\n",
    "    graph_data = trade_model.copy()\n",
    "    title_string = 'Simple Trend-Following Trading Model for ' + mdl_name\n",
    "    fig = plt.figure(figsize=(16,9))\n",
    "    ylabel = STOCK_SYMBOL + ' price in $'\n",
    "    ax1 = fig.add_subplot(111, ylabel=ylabel, title=title_string)\n",
    "    graph_data['close_price'].plot(ax=ax1, color='g')\n",
    "    ax1.plot(graph_data.loc[graph_data['buy_on_open']].index, graph_data.close_price[graph_data.entry_exit == 1], '^', markersize=7, color='b',label='Buy on Open')\n",
    "    ax1.plot(graph_data.loc[graph_data['sell_on_open']].index, graph_data.close_price[graph_data.entry_exit == -1], 'v', markersize=7, color='b',label='Sell on Open')\n",
    "    ax1.plot(graph_data.loc[graph_data['short_on_open']].index, graph_data.close_price[graph_data.entry_exit == 1], '^', markersize=7, color='r',label='Short on Open')\n",
    "    ax1.plot(graph_data.loc[graph_data['cover_on_open']].index, graph_data.close_price[graph_data.entry_exit == -1], 'v', markersize=7, color='r',label='Cover on Open')\n",
    "    plt.legend(loc='upper left')\n",
    "    plt.show()"
   ]
  },
  {
   "cell_type": "code",
   "execution_count": 110,
   "metadata": {
    "collapsed": false,
    "jupyter": {
     "outputs_hidden": false
    },
    "pycharm": {
     "name": "#%%\n"
    }
   },
   "outputs": [],
   "source": [
    "if verbose_graphs:\n",
    "    for model_name in trading_model_collection:\n",
    "        draw_model_graph(trading_model_collection[model_name], model_name)"
   ]
  },
  {
   "cell_type": "markdown",
   "metadata": {
    "colab_type": "text",
    "id": "wzTQaZkeTeld"
   },
   "source": [
    "## Task 4 - Back-test Models"
   ]
  },
  {
   "cell_type": "code",
   "execution_count": null,
   "outputs": [],
   "source": [
    "def generate_trading_portfolios(trade_model):\n",
    "    # Construct a portfolio to track the transactions and returns\n",
    "    portfolio = pd.DataFrame(index=trade_model.index, columns=['trade_action', 'price_executed', 'qty_transacted', 'cost_basis', 'gain_loss', 'qty_on_hand', 'cash_on_hand', 'position_value', 'total_position', 'accum_return'])\n",
    "    portfolio['trade_action'] = False\n",
    "    portfolio.iloc[0]['price_executed'] = 0.00\n",
    "    portfolio.iloc[0]['qty_transacted'] = 0\n",
    "    portfolio.iloc[0]['cost_basis'] = 0.00\n",
    "    portfolio.iloc[0]['gain_loss'] = 0.00\n",
    "    portfolio.iloc[0]['qty_on_hand'] = 0\n",
    "    portfolio.iloc[0]['cash_on_hand'] = INITIAL_CAPITAL\n",
    "    portfolio.iloc[0]['position_value'] = 0.00\n",
    "    portfolio.iloc[0]['total_position'] = INITIAL_CAPITAL\n",
    "    portfolio.iloc[0]['accum_return'] = portfolio.iloc[0]['total_position'] - INITIAL_CAPITAL\n",
    "    quantity = 1\n",
    "\n",
    "    # The conditional parameters below determine how the trading strategy will be carried out\n",
    "    for i in range(1, len(portfolio)):\n",
    "        price_per_share = trade_model.at[trade_model.index[i],'open_price']\n",
    "        if trade_model.at[trade_model.index[i],'buy_on_open']:\n",
    "            # Code block for Buy on Open\n",
    "            portfolio.iloc[i]['trade_action'] = True\n",
    "            portfolio.iloc[i]['price_executed'] = price_per_share\n",
    "            portfolio.iloc[i]['qty_transacted'] = quantity\n",
    "            recent_cost = price_per_share * -quantity\n",
    "            portfolio.iloc[i]['cost_basis'] = recent_cost\n",
    "            portfolio.iloc[i]['gain_loss'] = 0.00\n",
    "            portfolio.iloc[i]['qty_on_hand'] = portfolio.iloc[i-1]['qty_on_hand'] + quantity\n",
    "            portfolio.iloc[i]['cash_on_hand'] = portfolio.iloc[i-1]['cash_on_hand'] + recent_cost\n",
    "            if verbose_portfolios: print('BOUGHT QTY:', quantity, 'on', portfolio.index[i], 'at the price of', price_per_share)\n",
    "        elif trade_model.at[trade_model.index[i],'sell_on_open']:\n",
    "            # Code block for Sell on Open\n",
    "            portfolio.iloc[i]['trade_action'] = True\n",
    "            portfolio.iloc[i]['price_executed'] = price_per_share\n",
    "            portfolio.iloc[i]['qty_transacted'] = -quantity\n",
    "            recent_cost = 0.00\n",
    "            portfolio.iloc[i]['cost_basis'] = recent_cost\n",
    "            portfolio.iloc[i]['gain_loss'] = (price_per_share * quantity) + portfolio.iloc[i-1]['cost_basis']\n",
    "            portfolio.iloc[i]['qty_on_hand'] = portfolio.iloc[i-1]['qty_on_hand'] - quantity\n",
    "            portfolio.iloc[i]['cash_on_hand'] = portfolio.iloc[i-1]['cash_on_hand'] + (price_per_share * quantity)\n",
    "            if verbose_portfolios: print('SOLD QTY:', quantity, 'on', portfolio.index[i], 'at the price of', price_per_share)\n",
    "        elif trade_model.at[trade_model.index[i],'short_on_open']:\n",
    "            # Code block for Short on Open\n",
    "            portfolio.iloc[i]['trade_action'] = True\n",
    "            portfolio.iloc[i]['price_executed'] = price_per_share\n",
    "            portfolio.iloc[i]['qty_transacted'] = -quantity\n",
    "            recent_cost = price_per_share * quantity\n",
    "            portfolio.iloc[i]['cost_basis'] = recent_cost\n",
    "            portfolio.iloc[i]['gain_loss'] = 0.00\n",
    "            portfolio.iloc[i]['qty_on_hand'] = portfolio.iloc[i-1]['qty_on_hand'] - quantity\n",
    "            portfolio.iloc[i]['cash_on_hand'] = portfolio.iloc[i-1]['cash_on_hand'] + recent_cost\n",
    "            if verbose_portfolios: print('SHORTED QTY:', -quantity, 'on', portfolio.index[i], 'at the price of', trade_model.iloc[i]['open_price'])\n",
    "        elif trade_model.at[trade_model.index[i],'cover_on_open']:\n",
    "            # Code block for Cover on Open\n",
    "            portfolio.iloc[i]['trade_action'] = True\n",
    "            portfolio.iloc[i]['price_executed'] = price_per_share\n",
    "            portfolio.iloc[i]['qty_transacted'] = quantity\n",
    "            recent_cost = 0.00\n",
    "            portfolio.iloc[i]['cost_basis'] = recent_cost\n",
    "            portfolio.iloc[i]['gain_loss'] = portfolio.iloc[i-1]['cost_basis'] - (price_per_share * quantity)\n",
    "            portfolio.iloc[i]['qty_on_hand'] = portfolio.iloc[i-1]['qty_on_hand'] + quantity\n",
    "            portfolio.iloc[i]['cash_on_hand'] = portfolio.iloc[i-1]['cash_on_hand'] + (price_per_share * quantity)\n",
    "            if verbose_portfolios: print('COVERED QTY:', quantity, 'on', portfolio.index[i], 'at the price of', trade_model.iloc[i]['open_price'])\n",
    "        else:\n",
    "            # Code block for no trade actions\n",
    "            portfolio.iloc[i]['price_executed'] = 0.00\n",
    "            portfolio.iloc[i]['qty_transacted'] = 0\n",
    "            portfolio.iloc[i]['cost_basis'] = portfolio.iloc[i-1]['cost_basis']\n",
    "            portfolio.iloc[i]['gain_loss'] = 0.00\n",
    "            portfolio.iloc[i]['qty_on_hand'] = portfolio.iloc[i-1]['qty_on_hand']\n",
    "            portfolio.iloc[i]['cash_on_hand'] = portfolio.iloc[i-1]['cash_on_hand']\n",
    "        portfolio.iloc[i]['position_value'] = trade_model.at[trade_model.index[i],'close_price'] * portfolio.iloc[i]['qty_on_hand']\n",
    "        portfolio.iloc[i]['total_position'] = portfolio.iloc[i]['cash_on_hand'] + portfolio.iloc[i]['position_value']\n",
    "        portfolio.iloc[i]['accum_return'] = portfolio.iloc[i]['total_position'] - INITIAL_CAPITAL\n",
    "\n",
    "    if verbose_portfolios: print('\\n', portfolio, '\\n')\n",
    "    return portfolio"
   ],
   "metadata": {
    "collapsed": false,
    "pycharm": {
     "name": "#%%\n"
    }
   }
  },
  {
   "cell_type": "code",
   "execution_count": null,
   "metadata": {
    "colab": {
     "base_uri": "https://localhost:8080/",
     "height": 1000
    },
    "colab_type": "code",
    "collapsed": false,
    "id": "mOsqVrfRTelw",
    "jupyter": {
     "outputs_hidden": false
    },
    "outputId": "17950f55-4566-48b2-dde6-0974c6e45966",
    "pycharm": {
     "name": "#%%\n"
    }
   },
   "outputs": [],
   "source": [
    "def calculate_positions_and_performance(trade_model):\n",
    "    trade_positions = generate_trading_portfolios(trade_model)\n",
    "    trade_transactions = trade_positions[trade_positions['trade_action']]\n",
    "    if verbose_transactions: print(trade_transactions)\n",
    "    if verbose_transactions:\n",
    "        if trade_transactions.iloc[-1]['trade_action']:\n",
    "            print('The current status of the model is:', 'Holding a position since', trade_transactions.index.tolist()[-1].date(), '\\n')\n",
    "        else:\n",
    "            print('The current status of the model is:', 'Waiting to enter since', trade_transactions.index.tolist()[-1].date(), '\\n')\n",
    "    return trade_positions"
   ]
  },
  {
   "cell_type": "code",
   "execution_count": null,
   "metadata": {
    "collapsed": false,
    "jupyter": {
     "outputs_hidden": false
    },
    "pycharm": {
     "name": "#%%\n"
    }
   },
   "outputs": [],
   "source": [
    "# Convert trading models into positions and calculate profit and loss\n",
    "# Initialize a dictionary for tracking positions for all models\n",
    "model_positions_colletion={}\n",
    "\n",
    "for model_name in trading_model_collection:\n",
    "    if verbose_portfolios: print('Processing the positions for model:', model_name)\n",
    "    model_positions_colletion[model_name] = calculate_positions_and_performance(trading_model_collection[model_name])\n",
    "print(len(model_positions_colletion), 'sets of model positions generated.')"
   ]
  },
  {
   "cell_type": "code",
   "execution_count": null,
   "metadata": {
    "collapsed": false,
    "jupyter": {
     "outputs_hidden": false
    },
    "pycharm": {
     "name": "#%%\n"
    }
   },
   "outputs": [],
   "source": [
    "# Initialize a dataframe for storing the model's profit and loss\n",
    "model_performance_summary = pd.DataFrame(columns=['Model_name','Return_value','Return_percentage'])\n",
    "for model_name in model_positions_colletion:\n",
    "    if verbose_positions: print('Processing positions for model:', model_name)\n",
    "    if verbose_positions: print('Accumulated profit/loss for one share of stock with initial capital of $%.0f at the end of modeling period: $%.2f' % (INITIAL_CAPITAL, model_positions_colletion[model_name].accum_return[-1]))\n",
    "    if INITIAL_CAPITAL != 0:\n",
    "        return_percentage = model_positions_colletion[model_name].accum_return[-1] / INITIAL_CAPITAL * 100\n",
    "        if verbose_positions: print('Accumulated return percentage based on the initial capital investment: %.2f%%' % return_percentage)\n",
    "    else:\n",
    "        return_percentage = None\n",
    "    if verbose_positions: print()\n",
    "    model_performance_summary = model_performance_summary.append({'Model_name': model_name, 'Return_value': model_positions_colletion[model_name].accum_return[-1], 'Return_percentage': return_percentage}, ignore_index=True)\n",
    "    model_performance_summary.sort_values(by=['Return_value'], inplace=True, ascending=False)\n",
    "\n",
    "print(len(model_performance_summary), 'profit/loss summaries generated.\\n')\n",
    "print('The top ten model\\'s performance summary:')\n",
    "print(model_performance_summary.head(10))"
   ]
  },
  {
   "cell_type": "markdown",
   "metadata": {
    "pycharm": {
     "name": "#%% md\n"
    }
   },
   "source": [
    "## Task 5 - Evaluate Strategy Performance"
   ]
  },
  {
   "cell_type": "code",
   "execution_count": null,
   "metadata": {
    "collapsed": false,
    "jupyter": {
     "outputs_hidden": false
    },
    "pycharm": {
     "name": "#%%\n"
    }
   },
   "outputs": [],
   "source": [
    "# Calculate the stock's performance for a buy-and-hold model\n",
    "top_model_name = model_performance_summary.loc[0]['Model_name']\n",
    "top_trading_model = trading_model_collection[top_model_name]\n",
    "print('The entry point for the buy-and-hold model: $%.2f on %s' % (top_trading_model.iloc[0]['open_price'], top_trading_model.index[0].date()))\n",
    "print('The exit point for the buy-and-hold model: $%.2f on %s' % (top_trading_model.iloc[-1]['open_price'], top_trading_model.index[-1].date()))\n",
    "print('The performance of the buy-and-hold model: $%.2f' %(top_trading_model.iloc[-1]['open_price'] - top_trading_model.iloc[0]['open_price']))\n",
    "print('The performance of the top trading model: $%.2f' %(model_performance_summary.iloc[0]['Return_value']))"
   ]
  },
  {
   "cell_type": "code",
   "execution_count": null,
   "metadata": {
    "collapsed": false,
    "jupyter": {
     "outputs_hidden": false
    },
    "pycharm": {
     "name": "#%%\n"
    }
   },
   "outputs": [],
   "source": [
    "top_model_positions = model_positions_colletion[top_model_name]\n",
    "print(top_model_positions[top_model_positions['trade_action'] != 0])"
   ]
  },
  {
   "cell_type": "code",
   "execution_count": null,
   "metadata": {
    "collapsed": false,
    "jupyter": {
     "outputs_hidden": false
    },
    "pycharm": {
     "name": "#%%\n"
    }
   },
   "outputs": [],
   "source": [
    "draw_model_graph(trading_model_collection[top_model_name], top_model_name)"
   ]
  },
  {
   "cell_type": "code",
   "execution_count": null,
   "metadata": {
    "colab": {
     "base_uri": "https://localhost:8080/",
     "height": 34
    },
    "colab_type": "code",
    "collapsed": false,
    "id": "be1J2gmiTemG",
    "jupyter": {
     "outputs_hidden": false
    },
    "outputId": "28010a58-a8c1-43ae-d6ff-200fc13eb876",
    "pycharm": {
     "name": "#%%\n"
    }
   },
   "outputs": [],
   "source": [
    "print ('Total time for the script:',(datetime.now() - startTimeScript))"
   ]
  }
 ],
 "metadata": {
  "colab": {
   "collapsed_sections": [],
   "name": "py_algotrading_ema_crossover_grid_search.ipynb",
   "provenance": []
  },
  "kernelspec": {
   "display_name": "Python 3",
   "language": "python",
   "name": "python3"
  },
  "language_info": {
   "codemirror_mode": {
    "name": "ipython",
    "version": 3
   },
   "file_extension": ".py",
   "mimetype": "text/x-python",
   "name": "python",
   "nbconvert_exporter": "python",
   "pygments_lexer": "ipython3",
   "version": "3.8.3"
  }
 },
 "nbformat": 4,
 "nbformat_minor": 4
}