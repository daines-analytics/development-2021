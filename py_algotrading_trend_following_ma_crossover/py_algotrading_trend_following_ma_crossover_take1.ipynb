{
 "cells": [
  {
   "cell_type": "markdown",
   "metadata": {
    "colab_type": "text",
    "id": "nn0Ld1RjTekC"
   },
   "source": [
    "# Algorithmic Trading Model for Trend-Following with Moving Average Crossover Strategy Using Python Take 1\n",
    "### David Lowe\n",
    "### February 24, 2021\n",
    "\n",
    "NOTE: This script is for learning purposes only and does not constitute a recommendation for buying or selling any stock mentioned in this script.\n",
    "\n",
    "SUMMARY: This project aims to construct and test an algorithmic trading model and document the end-to-end steps using a template.\n",
    "\n",
    "INTRODUCTION: This algorithmic trading model examines a simple trend-following strategy for a stock. The model buys a stock when the price reaches the highest price for the last X number of days. The model will exit the position when the stock price crosses below the mean of the same window size.\n",
    "\n",
    "In addition to the stock price, the models will also use the trading volume indicator to confirm the buy/sell signal further. Finally, the strategy will also incorporate a fixed holding window. The system will exit the position when the holding window reaches the maximum window size.\n",
    "\n",
    "From iteration Take1, we set up the models using a trend window size for long trades only. The window size varied from 10 to 50 trading days at a 5-day increment. The models will also consider a volume indicator with a varying window size between 10 and 15 days to confirm the buy/sell signal further. We will not limit the holding period by setting the maximum holding period to 99 days for this iteration.\n",
    "\n",
    "ANALYSIS: From iteration Take1, we analyzed the stock prices for Apple Inc. (AAPL) between January 1, 2018 and December 31, 2020. The top trading model produced a profit of 95.90 dollars per share. The buy-and-hold approach yielded a gain of 91.54 dollars per share.\n",
    "\n",
    "CONCLUSION: For the stock of AAPL during the modeling time frame, the trading strategy did not produce a better return than the buy-and-hold approach. However, we should consider modeling this stock further by experimenting with more variations of the strategy.\n",
    "\n",
    "Dataset ML Model: Time series analysis with numerical attributes\n",
    "\n",
    "Dataset Used: Quandl\n",
    "\n",
    "An algorithmic trading modeling project generally can be broken down into about five major tasks:\n",
    "\n",
    "1. Prepare Environment\n",
    "2. Acquire and Pre-Process Data\n",
    "3. Implement and Train Models\n",
    "4. Back-test Models\n",
    "5. Evaluate Strategy Performance"
   ]
  },
  {
   "cell_type": "markdown",
   "metadata": {
    "colab_type": "text",
    "id": "-DieEv9pTekE"
   },
   "source": [
    "## Task 1 - Prepare Environment"
   ]
  },
  {
   "cell_type": "code",
   "execution_count": 1,
   "metadata": {
    "collapsed": false,
    "jupyter": {
     "outputs_hidden": false
    },
    "pycharm": {
     "name": "#%%\n"
    }
   },
   "outputs": [],
   "source": [
    "# # Install the necessary packages for Colab\n",
    "# !pip install python-dotenv PyMySQL"
   ]
  },
  {
   "cell_type": "code",
   "execution_count": 2,
   "metadata": {
    "collapsed": false,
    "jupyter": {
     "outputs_hidden": false
    },
    "pycharm": {
     "name": "#%%\n"
    }
   },
   "outputs": [],
   "source": [
    "# # Retrieve the GPU information from Colab\n",
    "# gpu_info = !nvidia-smi\n",
    "# gpu_info = '\\n'.join(gpu_info)\n",
    "# if gpu_info.find('failed') >= 0:\n",
    "#     print('Select the Runtime → \"Change runtime type\" menu to enable a GPU accelerator, ')\n",
    "#     print('and then re-execute this cell.')\n",
    "# else:\n",
    "#     print(gpu_info)"
   ]
  },
  {
   "cell_type": "code",
   "execution_count": 3,
   "metadata": {
    "collapsed": false,
    "jupyter": {
     "outputs_hidden": false
    },
    "pycharm": {
     "name": "#%%\n"
    }
   },
   "outputs": [],
   "source": [
    "# # Retrieve the memory configuration from Colab\n",
    "# from psutil import virtual_memory\n",
    "# ram_gb = virtual_memory().total / 1e9\n",
    "# print('Your runtime has {:.1f} gigabytes of available RAM\\n'.format(ram_gb))\n",
    "#\n",
    "# if ram_gb < 20:\n",
    "#     print('To enable a high-RAM runtime, select the Runtime → \"Change runtime type\"')\n",
    "#     print('menu, and then select High-RAM in the Runtime shape dropdown. Then, ')\n",
    "#     print('re-execute this cell.')\n",
    "# else:\n",
    "#     print('You are using a high-RAM runtime!')"
   ]
  },
  {
   "cell_type": "code",
   "execution_count": 4,
   "metadata": {
    "collapsed": false,
    "jupyter": {
     "outputs_hidden": false
    },
    "pycharm": {
     "name": "#%%\n"
    }
   },
   "outputs": [],
   "source": [
    "# # Retrieve the CPU information\n",
    "# ncpu = !nproc\n",
    "# print(\"The number of available CPUs is:\", ncpu[0])"
   ]
  },
  {
   "cell_type": "markdown",
   "metadata": {
    "pycharm": {
     "name": "#%% md\n"
    }
   },
   "source": [
    "### 1.a) Load libraries and modules"
   ]
  },
  {
   "cell_type": "code",
   "execution_count": 5,
   "metadata": {
    "colab": {},
    "colab_type": "code",
    "collapsed": false,
    "id": "8IwyGxxuTekE",
    "jupyter": {
     "outputs_hidden": false
    },
    "pycharm": {
     "name": "#%%\n"
    }
   },
   "outputs": [],
   "source": [
    "import pandas as pd\n",
    "import matplotlib.pyplot as plt\n",
    "import os\n",
    "import sys\n",
    "from datetime import date, datetime, timedelta\n",
    "import requests\n",
    "import json\n",
    "from dotenv import load_dotenv\n",
    "# import pandas_datareader.data as pdr\n",
    "\n",
    "# Begin the timer for the script processing\n",
    "startTimeScript = datetime.now()"
   ]
  },
  {
   "cell_type": "markdown",
   "metadata": {
    "pycharm": {
     "name": "#%% md\n"
    }
   },
   "source": [
    "### 1.b) Set up the controlling parameters and functions¶"
   ]
  },
  {
   "cell_type": "code",
   "execution_count": 6,
   "metadata": {
    "colab": {
     "base_uri": "https://localhost:8080/",
     "height": 51
    },
    "colab_type": "code",
    "collapsed": false,
    "id": "Zagik25QTekS",
    "jupyter": {
     "outputs_hidden": false
    },
    "outputId": "d14332ba-63ec-4224-ca13-c4ecdab3541a",
    "pycharm": {
     "name": "#%%\n"
    }
   },
   "outputs": [
    {
     "name": "stdout",
     "output_type": "stream",
     "text": [
      "Starting date for the model: 2018-01-01\n",
      "Ending date for the model: 2021-02-18\n",
      "First date of data we need for modeling: 2017-10-18\n",
      "Last date of data we need for modeling: 2021-02-18\n"
     ]
    }
   ],
   "source": [
    "# Specify the key modeling parameters below\n",
    "STOCK_SYMBOL = 'AAPL'\n",
    "INITIAL_CAPITAL = 0\n",
    "\n",
    "# Specify the moving average parameters for the trading strategy\n",
    "WINDOW_MIN = 10\n",
    "WINDOW_MAX = 50\n",
    "WINDOW_INCREMENT = 5\n",
    "VOL_MA_MIN = 10\n",
    "VOL_MA_MAX = 10\n",
    "VOL_MA_INCREMENT = 5\n",
    "HOLDING_MIN = 99\n",
    "HOLDING_MAX = 99\n",
    "HOLDING_INCREMENT = 10\n",
    "FAST_MA_MIN = 20\n",
    "FAST_MA_MAX = 20\n",
    "SLOW_MA_MIN = 50\n",
    "SLOW_MA_MAX = 50\n",
    "MA_INCREMENT = 5\n",
    "MA_GAP = 5\n",
    "\n",
    "LONG_ONLY = False\n",
    "SHORT_ONLY = False\n",
    "\n",
    "# The number of extra days of data we need for calculating moving averages (usually equals to the largest value of slow MA)\n",
    "EXTRA_DAYS = SLOW_MA_MAX\n",
    "\n",
    "MODEL_START_DATE = date(2018, 1, 1)\n",
    "print(\"Starting date for the model:\", MODEL_START_DATE)\n",
    "\n",
    "MODEL_END_DATE = datetime.now().date()\n",
    "# MODEL_END_DATE = date(2020, 12, 31)\n",
    "print(\"Ending date for the model:\", MODEL_END_DATE)\n",
    "\n",
    "# data_start_date = MODEL_START_DATE\n",
    "data_start_date = MODEL_START_DATE - timedelta(days=int(EXTRA_DAYS * 1.5)) # Need more pricing data to calculate moving averages\n",
    "print(\"First date of data we need for modeling:\", data_start_date)\n",
    "\n",
    "data_end_date = MODEL_END_DATE\n",
    "print(\"Last date of data we need for modeling:\", data_end_date)"
   ]
  },
  {
   "cell_type": "code",
   "execution_count": 7,
   "metadata": {
    "colab": {
     "base_uri": "https://localhost:8080/",
     "height": 34
    },
    "colab_type": "code",
    "collapsed": false,
    "id": "aTI50KL9TekN",
    "jupyter": {
     "outputs_hidden": false
    },
    "outputId": "68f4a687-6e33-48e5-ef46-c23d7994bc3e",
    "pycharm": {
     "name": "#%%\n"
    }
   },
   "outputs": [],
   "source": [
    "# Specify the script running parameters below\n",
    "\n",
    "# Set Pandas options\n",
    "pd.set_option(\"display.max_rows\", None)\n",
    "pd.set_option(\"display.max_columns\", None)\n",
    "pd.set_option(\"display.width\", 255)\n",
    "\n",
    "# Configure the plotting style\n",
    "plt.style.use('seaborn')\n",
    "\n",
    "# Set up the verbose flag to print detailed messages for debugging (setting True will activate!)\n",
    "verbose_signals = False\n",
    "verbose_models = False\n",
    "verbose_graphs = False\n",
    "verbose_trade_actions = False\n",
    "verbose_portfolios = False\n",
    "verbose_transactions = False\n",
    "verbose_positions = True"
   ]
  },
  {
   "cell_type": "code",
   "execution_count": 8,
   "metadata": {
    "collapsed": false,
    "jupyter": {
     "outputs_hidden": false
    },
    "pycharm": {
     "name": "#%%\n"
    }
   },
   "outputs": [
    {
     "data": {
      "text/plain": "True"
     },
     "execution_count": 8,
     "metadata": {},
     "output_type": "execute_result"
    }
   ],
   "source": [
    "# Set up the parent directory location for loading the dotenv files\n",
    "\n",
    "# Mount Google Drive locally for storing files\n",
    "# from google.colab import drive\n",
    "# drive.mount('/content/gdrive')\n",
    "# gdrivePrefix = '/content/gdrive/My Drive/Colab_Downloads/'\n",
    "# env_path = '/content/gdrive/My Drive/Colab Notebooks/'\n",
    "# dotenv_path = env_path + \"python_script.env\"\n",
    "# load_dotenv(dotenv_path=dotenv_path)\n",
    "\n",
    "# Set up access to the dotenv file on local PC\n",
    "env_path = \"/Users/david/PycharmProjects/\"\n",
    "dotenv_path = env_path + \"python_script.env\"\n",
    "load_dotenv(dotenv_path=dotenv_path)"
   ]
  },
  {
   "cell_type": "markdown",
   "metadata": {
    "colab_type": "text",
    "id": "Xa51FMY_TekZ"
   },
   "source": [
    "## Task 2 - Acquire and Pre-Process Data"
   ]
  },
  {
   "cell_type": "code",
   "execution_count": 9,
   "metadata": {
    "colab": {},
    "colab_type": "code",
    "collapsed": false,
    "id": "Og9L0byuTekd",
    "jupyter": {
     "outputs_hidden": false
    },
    "pycharm": {
     "name": "#%%\n"
    }
   },
   "outputs": [
    {
     "name": "stdout",
     "output_type": "stream",
     "text": [
      "838 data points retrieved from the API call.\n"
     ]
    }
   ],
   "source": [
    "# Set up the data service provider and data acquisition parameters\n",
    "data_service = 'Quandl'\n",
    "\n",
    "# Check and see whether the API key is available\n",
    "api_key = os.environ.get('QUANDL_API')\n",
    "if api_key is None: sys.exit(\"API key for Quandl not available. Script Processing Aborted!!!\")\n",
    "\n",
    "start_date_string = data_start_date.strftime('%Y-%m-%d')\n",
    "end_date_string = data_end_date.strftime('%Y-%m-%d')\n",
    "api_url = \"https://www.quandl.com/api/v3/datatables/SHARADAR/SEP.json?date.gte=%s&date.lte=%s&ticker=%s&api_key=%s\" % (start_date_string, end_date_string, STOCK_SYMBOL, api_key)\n",
    "response = requests.get(api_url)\n",
    "resp_dict = json.loads(response.text)\n",
    "stock_rawdata = pd.DataFrame(resp_dict['datatable']['data'])\n",
    "print(len(stock_rawdata), 'data points retrieved from the API call.')"
   ]
  },
  {
   "cell_type": "code",
   "execution_count": 10,
   "metadata": {},
   "outputs": [
    {
     "name": "stdout",
     "output_type": "stream",
     "text": [
      "           ticker        date    open    high     low   close       volume  dividend  closeunadj lastupdated\n",
      "date                                                                                                        \n",
      "2017-10-18   AAPL  2017-10-18  40.105  40.178  39.900  39.940   65496656.0       0.0      159.76  2020-08-31\n",
      "2017-10-19   AAPL  2017-10-19  39.188  39.270  38.755  38.995  170336664.0       0.0      155.98  2020-08-31\n",
      "2017-10-20   AAPL  2017-10-20  39.153  39.438  38.990  39.063   95896584.0       0.0      156.25  2020-08-31\n",
      "2017-10-23   AAPL  2017-10-23  39.222  39.422  38.875  39.042   87937308.0       0.0      156.17  2020-08-31\n",
      "2017-10-24   AAPL  2017-10-24  39.072  39.355  39.050  39.275   71028920.0       0.0      157.10  2020-08-31\n",
      "\n",
      "           ticker        date    open    high      low   close      volume  dividend  closeunadj lastupdated\n",
      "date                                                                                                        \n",
      "2021-02-10   AAPL  2021-02-10  136.48  136.99  134.400  135.39  72647988.0       0.0      135.39  2021-02-10\n",
      "2021-02-11   AAPL  2021-02-11  135.90  136.39  133.770  135.13  63734349.0       0.0      135.13  2021-02-11\n",
      "2021-02-12   AAPL  2021-02-12  134.35  135.53  133.692  135.37  59803219.0       0.0      135.37  2021-02-12\n",
      "2021-02-16   AAPL  2021-02-16  135.49  136.01  132.790  133.19  80576316.0       0.0      133.19  2021-02-16\n",
      "2021-02-17   AAPL  2021-02-17  131.25  132.22  129.470  130.84  98085249.0       0.0      130.84  2021-02-17\n"
     ]
    }
   ],
   "source": [
    "stock_rawdata.columns = ['ticker', 'date', 'open', 'high', 'low', 'close', 'volume', 'dividend', 'closeunadj', 'lastupdated']\n",
    "# stock_rawdata.set_index('date', inplace=True)\n",
    "stock_rawdata.index = pd.to_datetime(stock_rawdata.date)\n",
    "stock_pricing = stock_rawdata.sort_index(ascending=True)\n",
    "print(stock_pricing.head())\n",
    "print()\n",
    "print(stock_pricing.tail())"
   ]
  },
  {
   "cell_type": "code",
   "execution_count": 11,
   "metadata": {
    "colab": {
     "base_uri": "https://localhost:8080/",
     "height": 535
    },
    "colab_type": "code",
    "collapsed": false,
    "id": "Tfuu40coTekv",
    "jupyter": {
     "outputs_hidden": false
    },
    "outputId": "2357753d-6c83-46ad-e8cc-8593497d20ff",
    "pycharm": {
     "name": "#%%\n"
    }
   },
   "outputs": [
    {
     "data": {
      "text/plain": "<Figure size 1152x648 with 1 Axes>",
      "image/png": "[encoded data removed]"
     },
     "metadata": {},
     "output_type": "display_data"
    }
   ],
   "source": [
    "# Set up the standard column name for modeling\n",
    "# Column names may be data-provider specific!\n",
    "MODEL_TEMPLATE = stock_pricing.loc[:, ['open','close','volume']]\n",
    "MODEL_TEMPLATE.rename(columns={'open': 'open_price', 'close': 'close_price', 'volume': 'trading_volume'}, inplace=True)\n",
    "plot_title = 'Historical Stock Close Price for ' + STOCK_SYMBOL + ' from ' + data_service\n",
    "MODEL_TEMPLATE['close_price'].plot(figsize=(16,9), title=plot_title)\n",
    "plt.show()"
   ]
  },
  {
   "cell_type": "markdown",
   "metadata": {
    "colab_type": "text",
    "id": "UKNJYDlGTek0"
   },
   "source": [
    "## Task 3 - Implement and Train Models"
   ]
  },
  {
   "cell_type": "code",
   "execution_count": 12,
   "metadata": {
    "colab": {},
    "colab_type": "code",
    "collapsed": false,
    "id": "yfQTRXPnTelA",
    "jupyter": {
     "outputs_hidden": false
    },
    "pycharm": {
     "name": "#%%\n"
    }
   },
   "outputs": [],
   "source": [
    "# Define the function that will generate the indicators and trading signals\n",
    "def populate_signals(window=WINDOW_MIN, vol_ma=VOL_MA_MIN, max_holding=HOLDING_MAX, fast_ma=FAST_MA_MIN, slow_ma=SLOW_MA_MIN):\n",
    "\n",
    "    trade_model = MODEL_TEMPLATE.copy()\n",
    "    trade_model['window_high'] = trade_model['close_price'].shift(1).rolling(window=window).max()\n",
    "    trade_model['window_low'] = trade_model['close_price'].shift(1).rolling(window=window).min()\n",
    "    trade_model['window_avg'] = trade_model['close_price'].shift(1).rolling(window=window).mean()\n",
    "    trade_model['volume_ma'] = trade_model['trading_volume'].rolling(vol_ma).mean()\n",
    "    trade_model['fast_ma'] = trade_model['close_price'].rolling(fast_ma).mean()\n",
    "    trade_model['slow_ma'] = trade_model['close_price'].rolling(slow_ma).mean()\n",
    "    trade_model['ma_change'] = trade_model['fast_ma'] - trade_model['slow_ma']\n",
    "    trade_model['holding_period'] = 0\n",
    "    trade_model['buy_on_open'] = False\n",
    "    trade_model['sell_on_open'] = False\n",
    "    trade_model['short_on_open'] = False\n",
    "    trade_model['cover_on_open'] = False\n",
    "    trade_model['position_long'] = False\n",
    "    trade_model['position_short'] = False\n",
    "    trade_model['close_above_avg'] = False\n",
    "    trade_model['close_below_avg'] = False\n",
    "\n",
    "    # Truncate the model to the required starting and ending dates\n",
    "    trade_model = trade_model[MODEL_START_DATE:MODEL_END_DATE]\n",
    "    last_index = len(trade_model) - 1\n",
    "\n",
    "    for k in range(len(trade_model)):\n",
    "        breakout_high = trade_model.at[trade_model.index[k],'close_price'] - trade_model.at[trade_model.index[k],'window_high']\n",
    "        crossover = trade_model.at[trade_model.index[k],'close_price'] - trade_model.at[trade_model.index[k],'window_avg']\n",
    "        breakout_low = trade_model.at[trade_model.index[k],'close_price'] - trade_model.at[trade_model.index[k],'window_low']\n",
    "        trade_volume = trade_model.at[trade_model.index[k],'trading_volume']\n",
    "        average_volume = trade_model.at[trade_model.index[k],'volume_ma']\n",
    "        if k == 0:\n",
    "            currently_long = False\n",
    "            currently_short = False\n",
    "        else:\n",
    "            currently_long = trade_model.at[trade_model.index[k-1],'position_long']\n",
    "            currently_short = trade_model.at[trade_model.index[k-1],'position_short']\n",
    "\n",
    "        holding_period = trade_model.at[trade_model.index[k-1],'holding_period']\n",
    "        if trade_model.at[trade_model.index[k-1],'position_long'] or trade_model.at[trade_model.index[k-1],'position_short']:\n",
    "            holding_period = holding_period + 1\n",
    "            trade_model.at[trade_model.index[k],'holding_period'] = holding_period\n",
    "\n",
    "        # Check to see whether we need to execute any trade action on open\n",
    "        if trade_model.at[trade_model.index[k],'buy_on_open']:\n",
    "            trade_model.at[trade_model.index[k],'position_long'] = True\n",
    "        elif trade_model.at[trade_model.index[k],'short_on_open']:\n",
    "            trade_model.at[trade_model.index[k],'position_short'] = True\n",
    "        elif trade_model.at[trade_model.index[k],'sell_on_open']:\n",
    "            trade_model.at[trade_model.index[k],'position_long'] = False\n",
    "        elif trade_model.at[trade_model.index[k],'cover_on_open']:\n",
    "            trade_model.at[trade_model.index[k],'position_short'] = False\n",
    "        else:\n",
    "            # If no trade on open, check to see whether we have a breakout either way\n",
    "            if (breakout_high >= 0) and (not currently_long) and (not currently_short) and (trade_volume > average_volume) and (k < last_index-1) and (not SHORT_ONLY):\n",
    "                trade_model.at[trade_model.index[k+1],'buy_on_open'] = True\n",
    "            elif (breakout_low < 0) and (not currently_long) and (not currently_short) and (trade_volume > average_volume) and (k < last_index-1) and (not LONG_ONLY):\n",
    "                trade_model.at[trade_model.index[k+1],'short_on_open'] = True\n",
    "            else:\n",
    "                # If no breakout, check to see whether we need to exit an existing position\n",
    "                if crossover >= 0:\n",
    "                    trade_model.at[trade_model.index[k],'close_above_avg'] = True\n",
    "                    if (currently_short and (k > 0) and (k < last_index-1) and trade_model.at[trade_model.index[k-1],'close_below_avg']) or ((holding_period == max_holding) and currently_short):\n",
    "                        trade_model.at[trade_model.index[k+1],'cover_on_open'] = True\n",
    "                else:\n",
    "                    trade_model.at[trade_model.index[k],'close_below_avg'] = True\n",
    "                    if (currently_long and (k > 0) and (k < last_index-1) and trade_model.at[trade_model.index[k-1],'close_above_avg']) or ((holding_period == max_holding) and currently_long):\n",
    "                        trade_model.at[trade_model.index[k+1],'sell_on_open'] = True\n",
    "\n",
    "            # If no action on a given day, carry over the position status\n",
    "            if (k > 0) and (not trade_model.at[trade_model.index[k],'buy_on_open']) and (not trade_model.at[trade_model.index[k],'sell_on_open']) and (not trade_model.at[trade_model.index[k],'short_on_open']) and (not trade_model.at[trade_model.index[k],'cover_on_open']):\n",
    "                trade_model.at[trade_model.index[k],'position_long'] = trade_model.at[trade_model.index[k-1],'position_long']\n",
    "                trade_model.at[trade_model.index[k],'position_short'] = trade_model.at[trade_model.index[k-1],'position_short']\n",
    "\n",
    "        # # Exiting the position on the last day of modeling period\n",
    "        # if k == last_index-1:\n",
    "        #     if trade_model.at[trade_model.index[k],'position_long']:\n",
    "        #         trade_model.at[trade_model.index[k+1],'sell_on_open'] = True\n",
    "        #         trade_model.at[trade_model.index[k+1],'position_long'] = False\n",
    "        #     elif trade_model.at[trade_model.index[k],'position_short']:\n",
    "        #         trade_model.at[trade_model.index[k+1],'cover_on_open'] = True\n",
    "        #         trade_model.at[trade_model.index[k+1],'position_short'] = False\n",
    "\n",
    "    if verbose_signals: print(trade_model, '\\n')\n",
    "    return trade_model"
   ]
  },
  {
   "cell_type": "code",
   "execution_count": 13,
   "metadata": {
    "collapsed": false,
    "jupyter": {
     "outputs_hidden": false
    },
    "pycharm": {
     "name": "#%%\n"
    }
   },
   "outputs": [
    {
     "name": "stdout",
     "output_type": "stream",
     "text": [
      "9 trading models generated!\n"
     ]
    }
   ],
   "source": [
    "# Build the collection of trading models by iterating through the parameters\n",
    "trading_model_collection = {}\n",
    "serial_no = 0\n",
    "for window_size in range(WINDOW_MIN, WINDOW_MAX+1, WINDOW_INCREMENT):\n",
    "    for vol_average in range(VOL_MA_MIN, VOL_MA_MAX+1, VOL_MA_INCREMENT):\n",
    "        for hold_period in range(HOLDING_MIN, HOLDING_MAX+1, HOLDING_INCREMENT):\n",
    "            for fastma_line in range(FAST_MA_MIN, FAST_MA_MAX+1, MA_INCREMENT):\n",
    "                for slowma_line in range(SLOW_MA_MIN, SLOW_MA_MAX+1, MA_INCREMENT):\n",
    "                    if (slowma_line - fastma_line) < MA_GAP: break\n",
    "                    serial_no += 1\n",
    "                    model_tag = 'Model_' + str(serial_no).zfill(3) + '_WINDOW_' + str(window_size).zfill(3) + '_VOLMA_' + str(vol_average).zfill(3) + '_HOLD_' + str(hold_period).zfill(3) + '_FASTMA_' + str(fastma_line).zfill(3) + '_SLOWMA_' + str(slowma_line).zfill(3)\n",
    "                    if verbose_signals: print('Processing model:', model_tag)\n",
    "                    trading_model = populate_signals(window_size, vol_average, hold_period, fastma_line, slowma_line)\n",
    "                    trading_model_collection[model_tag] = trading_model.copy()\n",
    "print(len(trading_model_collection), 'trading models generated!')"
   ]
  },
  {
   "cell_type": "code",
   "execution_count": 14,
   "metadata": {
    "colab": {
     "base_uri": "https://localhost:8080/",
     "height": 1000
    },
    "colab_type": "code",
    "collapsed": false,
    "id": "327CZKmtTelL",
    "jupyter": {
     "outputs_hidden": false
    },
    "outputId": "b353b49d-0281-4aa7-a530-6747c166eae5",
    "pycharm": {
     "name": "#%%\n"
    }
   },
   "outputs": [],
   "source": [
    "# List the entry/exit points for each model\n",
    "def list_model_entry_exit(trade_model):\n",
    "    print(trade_model[trade_model['buy_on_open'] | trade_model['sell_on_open'] | trade_model['short_on_open'] | trade_model['cover_on_open']])"
   ]
  },
  {
   "cell_type": "code",
   "execution_count": 15,
   "metadata": {
    "collapsed": false,
    "jupyter": {
     "outputs_hidden": false
    },
    "pycharm": {
     "name": "#%%\n"
    }
   },
   "outputs": [],
   "source": [
    "if verbose_models:\n",
    "    for model_name in trading_model_collection:\n",
    "        print('List the signal changes and entry/exit points for model:', model_name)\n",
    "        list_model_entry_exit(trading_model_collection[model_name])\n",
    "        print()"
   ]
  },
  {
   "cell_type": "code",
   "execution_count": 16,
   "metadata": {
    "collapsed": false,
    "jupyter": {
     "outputs_hidden": false
    },
    "pycharm": {
     "name": "#%%\n"
    }
   },
   "outputs": [],
   "source": [
    "def draw_model_graph(trade_model, mdl_name=STOCK_SYMBOL):\n",
    "    graph_data = trade_model.copy()\n",
    "    title_string = 'Simple Trend-Following Trading Model for ' + mdl_name\n",
    "    fig = plt.figure(figsize=(16,9))\n",
    "    ylabel = STOCK_SYMBOL + ' price in $'\n",
    "    ax1 = fig.add_subplot(111, ylabel=ylabel, title=title_string)\n",
    "    graph_data['close_price'].plot(ax=ax1, color='g')\n",
    "    ax1.plot(graph_data.loc[graph_data['buy_on_open']].index, graph_data.close_price[graph_data['buy_on_open']], '^', markersize=7, color='b',label='Buy on Open')\n",
    "    ax1.plot(graph_data.loc[graph_data['sell_on_open']].index, graph_data.close_price[graph_data['sell_on_open']], 'v', markersize=7, color='b',label='Sell on Open')\n",
    "    ax1.plot(graph_data.loc[graph_data['short_on_open']].index, graph_data.close_price[graph_data['short_on_open']], '^', markersize=7, color='r',label='Short on Open')\n",
    "    ax1.plot(graph_data.loc[graph_data['cover_on_open']].index, graph_data.close_price[graph_data['cover_on_open']], 'v', markersize=7, color='r',label='Cover on Open')\n",
    "    plt.legend(loc='upper left')\n",
    "    plt.show()"
   ]
  },
  {
   "cell_type": "code",
   "execution_count": 17,
   "metadata": {
    "collapsed": false,
    "jupyter": {
     "outputs_hidden": false
    },
    "pycharm": {
     "name": "#%%\n"
    }
   },
   "outputs": [],
   "source": [
    "if verbose_graphs:\n",
    "    for model_name in trading_model_collection:\n",
    "        draw_model_graph(trading_model_collection[model_name], model_name)"
   ]
  },
  {
   "cell_type": "markdown",
   "metadata": {
    "colab_type": "text",
    "id": "wzTQaZkeTeld"
   },
   "source": [
    "## Task 4 - Back-test Models"
   ]
  },
  {
   "cell_type": "code",
   "execution_count": 18,
   "metadata": {
    "collapsed": false,
    "jupyter": {
     "outputs_hidden": false
    },
    "pycharm": {
     "name": "#%%\n"
    }
   },
   "outputs": [],
   "source": [
    "def generate_trading_portfolios(trade_model):\n",
    "    # Construct a portfolio to track the transactions and returns\n",
    "    portfolio = pd.DataFrame(index=trade_model.index, columns=['trade_action', 'price_executed', 'qty_transacted', 'cost_basis', 'gain_loss', 'qty_on_hand', 'cash_on_hand', 'position_value', 'total_position', 'accum_return'])\n",
    "    portfolio['trade_action'] = False\n",
    "    portfolio.at[portfolio.index[0],'price_executed'] = 0.00\n",
    "    portfolio.at[portfolio.index[0],'qty_transacted'] = 0\n",
    "    portfolio.at[portfolio.index[0],'cost_basis'] = 0.00\n",
    "    portfolio.at[portfolio.index[0],'gain_loss'] = 0.00\n",
    "    portfolio.at[portfolio.index[0],'qty_on_hand'] = 0\n",
    "    portfolio.at[portfolio.index[0],'cash_on_hand'] = INITIAL_CAPITAL\n",
    "    portfolio.at[portfolio.index[0],'position_value'] = 0.00\n",
    "    portfolio.at[portfolio.index[0],'total_position'] = INITIAL_CAPITAL\n",
    "    portfolio.at[portfolio.index[0],'accum_return'] = 0.00\n",
    "    quantity = 1\n",
    "\n",
    "    # The conditional parameters below determine how the trading strategy will be carried out\n",
    "    for i in range(1, len(portfolio)):\n",
    "        price_per_share = trade_model.at[trade_model.index[i],'open_price']\n",
    "        if trade_model.at[trade_model.index[i],'buy_on_open']:\n",
    "            # Code block for Buy on Open\n",
    "            portfolio.at[portfolio.index[i],'trade_action'] = True\n",
    "            portfolio.at[portfolio.index[i],'price_executed'] = price_per_share\n",
    "            portfolio.at[portfolio.index[i],'qty_transacted'] = quantity\n",
    "            recent_cost = price_per_share * -quantity\n",
    "            portfolio.at[portfolio.index[i],'cost_basis'] = recent_cost\n",
    "            portfolio.at[portfolio.index[i],'gain_loss'] = 0.00\n",
    "            portfolio.at[portfolio.index[i],'qty_on_hand'] = portfolio.iloc[i-1]['qty_on_hand'] + quantity\n",
    "            portfolio.at[portfolio.index[i],'cash_on_hand'] = portfolio.iloc[i-1]['cash_on_hand'] + recent_cost\n",
    "            if verbose_trade_actions: print('BOUGHT QTY:', quantity, 'on', portfolio.index[i].date(), 'at the price of', price_per_share)\n",
    "        elif trade_model.at[trade_model.index[i],'sell_on_open']:\n",
    "            # Code block for Sell on Open\n",
    "            portfolio.at[portfolio.index[i],'trade_action'] = True\n",
    "            portfolio.at[portfolio.index[i],'price_executed'] = price_per_share\n",
    "            portfolio.at[portfolio.index[i],'qty_transacted'] = -quantity\n",
    "            recent_cost = 0.00\n",
    "            portfolio.at[portfolio.index[i],'cost_basis'] = recent_cost\n",
    "            portfolio.at[portfolio.index[i],'gain_loss'] = (price_per_share * quantity) + portfolio.iloc[i-1]['cost_basis']\n",
    "            portfolio.at[portfolio.index[i],'qty_on_hand'] = portfolio.iloc[i-1]['qty_on_hand'] - quantity\n",
    "            portfolio.at[portfolio.index[i],'cash_on_hand'] = portfolio.iloc[i-1]['cash_on_hand'] + (price_per_share * quantity)\n",
    "            if verbose_trade_actions: print('SOLD QTY:', quantity, 'on', portfolio.index[i].date(), 'at the price of', price_per_share)\n",
    "        elif trade_model.at[trade_model.index[i],'short_on_open']:\n",
    "            # Code block for Short on Open\n",
    "            portfolio.at[portfolio.index[i],'trade_action'] = True\n",
    "            portfolio.at[portfolio.index[i],'price_executed'] = price_per_share\n",
    "            portfolio.at[portfolio.index[i],'qty_transacted'] = -quantity\n",
    "            recent_cost = price_per_share * quantity\n",
    "            portfolio.at[portfolio.index[i],'cost_basis'] = recent_cost\n",
    "            portfolio.at[portfolio.index[i],'gain_loss'] = 0.00\n",
    "            portfolio.at[portfolio.index[i],'qty_on_hand'] = portfolio.iloc[i-1]['qty_on_hand'] - quantity\n",
    "            portfolio.at[portfolio.index[i],'cash_on_hand'] = portfolio.iloc[i-1]['cash_on_hand'] + recent_cost\n",
    "            if verbose_trade_actions: print('SHORTED QTY:', -quantity, 'on', portfolio.index[i].date(), 'at the price of', trade_model.at[portfolio.index[i],'open_price'])\n",
    "        elif trade_model.at[trade_model.index[i],'cover_on_open']:\n",
    "            # Code block for Cover on Open\n",
    "            portfolio.at[portfolio.index[i],'trade_action'] = True\n",
    "            portfolio.at[portfolio.index[i],'price_executed'] = price_per_share\n",
    "            portfolio.at[portfolio.index[i],'qty_transacted'] = quantity\n",
    "            recent_cost = 0.00\n",
    "            portfolio.at[portfolio.index[i],'cost_basis'] = recent_cost\n",
    "            portfolio.at[portfolio.index[i],'gain_loss'] = portfolio.iloc[i-1]['cost_basis'] - (price_per_share * quantity)\n",
    "            portfolio.at[portfolio.index[i],'qty_on_hand'] = portfolio.iloc[i-1]['qty_on_hand'] + quantity\n",
    "            portfolio.at[portfolio.index[i],'cash_on_hand'] = portfolio.iloc[i-1]['cash_on_hand'] - (price_per_share * quantity)\n",
    "            if verbose_trade_actions: print('COVERED QTY:', quantity, 'on', portfolio.index[i].date(), 'at the price of', trade_model.at[portfolio.index[i],'open_price'])\n",
    "        else:\n",
    "            # Code block for no trade actions\n",
    "            portfolio.at[portfolio.index[i],'price_executed'] = 0.00\n",
    "            portfolio.at[portfolio.index[i],'qty_transacted'] = 0\n",
    "            portfolio.at[portfolio.index[i],'cost_basis'] = portfolio.iloc[i-1]['cost_basis']\n",
    "            portfolio.at[portfolio.index[i],'gain_loss'] = 0.00\n",
    "            portfolio.at[portfolio.index[i],'qty_on_hand'] = portfolio.iloc[i-1]['qty_on_hand']\n",
    "            portfolio.at[portfolio.index[i],'cash_on_hand'] = portfolio.iloc[i-1]['cash_on_hand']\n",
    "        portfolio.at[portfolio.index[i],'position_value'] = trade_model.at[trade_model.index[i],'close_price'] * portfolio.at[portfolio.index[i],'qty_on_hand']\n",
    "        portfolio.at[portfolio.index[i],'total_position'] = portfolio.at[portfolio.index[i],'cash_on_hand'] + portfolio.at[portfolio.index[i],'position_value']\n",
    "        portfolio.at[portfolio.index[i],'accum_return'] = portfolio.at[portfolio.index[i],'total_position'] - INITIAL_CAPITAL\n",
    "\n",
    "    if verbose_portfolios: print('\\n', portfolio, '\\n')\n",
    "    return portfolio"
   ]
  },
  {
   "cell_type": "code",
   "execution_count": 19,
   "metadata": {
    "colab": {
     "base_uri": "https://localhost:8080/",
     "height": 1000
    },
    "colab_type": "code",
    "collapsed": false,
    "id": "mOsqVrfRTelw",
    "jupyter": {
     "outputs_hidden": false
    },
    "outputId": "17950f55-4566-48b2-dde6-0974c6e45966",
    "pycharm": {
     "name": "#%%\n"
    }
   },
   "outputs": [],
   "source": [
    "def calculate_positions_and_performance(trade_model):\n",
    "    trade_positions = generate_trading_portfolios(trade_model)\n",
    "    trade_transactions = trade_positions[trade_positions['trade_action']]\n",
    "    if verbose_transactions: print(trade_transactions)\n",
    "    if trade_transactions.at[trade_transactions.index[-1],'trade_action']:\n",
    "        if trade_transactions.at[trade_transactions.index[-1],'qty_on_hand'] == 0:\n",
    "            print('The current status of the model is:','Waiting to enter a position since',trade_transactions.index.tolist()[-1].date(),'\\n')\n",
    "        elif trade_transactions.at[trade_transactions.index[-1],'qty_on_hand'] > 0:\n",
    "            print('The current status of the model is:','Holding a long position since',trade_transactions.index.tolist()[-1].date(),'\\n')\n",
    "        else:\n",
    "            print('The current status of the model is:','Holding a short position since',trade_transactions.index.tolist()[-1].date(),'\\n')\n",
    "    return trade_positions"
   ]
  },
  {
   "cell_type": "code",
   "execution_count": 20,
   "metadata": {
    "collapsed": false,
    "jupyter": {
     "outputs_hidden": false
    },
    "pycharm": {
     "name": "#%%\n"
    }
   },
   "outputs": [
    {
     "name": "stdout",
     "output_type": "stream",
     "text": [
      "Processing the positions for model: Model_001_WINDOW_010_VOLMA_010_HOLD_099_FASTMA_020_SLOWMA_050\n",
      "The current status of the model is: Waiting to enter a position since 2021-02-01 \n",
      "\n",
      "Processing the positions for model: Model_002_WINDOW_015_VOLMA_010_HOLD_099_FASTMA_020_SLOWMA_050\n",
      "The current status of the model is: Waiting to enter a position since 2021-02-01 \n",
      "\n",
      "Processing the positions for model: Model_003_WINDOW_020_VOLMA_010_HOLD_099_FASTMA_020_SLOWMA_050\n",
      "The current status of the model is: Waiting to enter a position since 2021-02-01 \n",
      "\n",
      "Processing the positions for model: Model_004_WINDOW_025_VOLMA_010_HOLD_099_FASTMA_020_SLOWMA_050\n",
      "The current status of the model is: Waiting to enter a position since 2021-02-01 \n",
      "\n",
      "Processing the positions for model: Model_005_WINDOW_030_VOLMA_010_HOLD_099_FASTMA_020_SLOWMA_050\n",
      "The current status of the model is: Waiting to enter a position since 2021-02-01 \n",
      "\n",
      "Processing the positions for model: Model_006_WINDOW_035_VOLMA_010_HOLD_099_FASTMA_020_SLOWMA_050\n",
      "The current status of the model is: Holding a long position since 2020-12-16 \n",
      "\n",
      "Processing the positions for model: Model_007_WINDOW_040_VOLMA_010_HOLD_099_FASTMA_020_SLOWMA_050\n",
      "The current status of the model is: Holding a long position since 2020-12-16 \n",
      "\n",
      "Processing the positions for model: Model_008_WINDOW_045_VOLMA_010_HOLD_099_FASTMA_020_SLOWMA_050\n",
      "The current status of the model is: Holding a long position since 2020-12-16 \n",
      "\n",
      "Processing the positions for model: Model_009_WINDOW_050_VOLMA_010_HOLD_099_FASTMA_020_SLOWMA_050\n",
      "The current status of the model is: Holding a long position since 2020-12-16 \n",
      "\n",
      "9 sets of model positions generated.\n"
     ]
    }
   ],
   "source": [
    "# Convert trading models into positions and calculate profit and loss\n",
    "# Initialize a dictionary for tracking positions for all models\n",
    "model_positions_collection={}\n",
    "\n",
    "for model_name in trading_model_collection:\n",
    "    print('Processing the positions for model:', model_name)\n",
    "    model_positions_collection[model_name] = calculate_positions_and_performance(trading_model_collection[model_name])\n",
    "print(len(model_positions_collection), 'sets of model positions generated.')"
   ]
  },
  {
   "cell_type": "code",
   "execution_count": 21,
   "metadata": {
    "collapsed": false,
    "jupyter": {
     "outputs_hidden": false
    },
    "pycharm": {
     "name": "#%%\n"
    }
   },
   "outputs": [
    {
     "name": "stdout",
     "output_type": "stream",
     "text": [
      "Processing positions for model: Model_001_WINDOW_010_VOLMA_010_HOLD_099_FASTMA_020_SLOWMA_050\n",
      "Accumulated profit/loss for one share of stock with initial capital of $0 at the end of modeling period: $7.30\n",
      "\n",
      "Processing positions for model: Model_002_WINDOW_015_VOLMA_010_HOLD_099_FASTMA_020_SLOWMA_050\n",
      "Accumulated profit/loss for one share of stock with initial capital of $0 at the end of modeling period: $76.57\n",
      "\n",
      "Processing positions for model: Model_003_WINDOW_020_VOLMA_010_HOLD_099_FASTMA_020_SLOWMA_050\n",
      "Accumulated profit/loss for one share of stock with initial capital of $0 at the end of modeling period: $47.12\n",
      "\n",
      "Processing positions for model: Model_004_WINDOW_025_VOLMA_010_HOLD_099_FASTMA_020_SLOWMA_050\n",
      "Accumulated profit/loss for one share of stock with initial capital of $0 at the end of modeling period: $39.16\n",
      "\n",
      "Processing positions for model: Model_005_WINDOW_030_VOLMA_010_HOLD_099_FASTMA_020_SLOWMA_050\n",
      "Accumulated profit/loss for one share of stock with initial capital of $0 at the end of modeling period: $70.74\n",
      "\n",
      "Processing positions for model: Model_006_WINDOW_035_VOLMA_010_HOLD_099_FASTMA_020_SLOWMA_050\n",
      "Accumulated profit/loss for one share of stock with initial capital of $0 at the end of modeling period: $76.50\n",
      "\n",
      "Processing positions for model: Model_007_WINDOW_040_VOLMA_010_HOLD_099_FASTMA_020_SLOWMA_050\n",
      "Accumulated profit/loss for one share of stock with initial capital of $0 at the end of modeling period: $58.81\n",
      "\n",
      "Processing positions for model: Model_008_WINDOW_045_VOLMA_010_HOLD_099_FASTMA_020_SLOWMA_050\n",
      "Accumulated profit/loss for one share of stock with initial capital of $0 at the end of modeling period: $51.02\n",
      "\n",
      "Processing positions for model: Model_009_WINDOW_050_VOLMA_010_HOLD_099_FASTMA_020_SLOWMA_050\n",
      "Accumulated profit/loss for one share of stock with initial capital of $0 at the end of modeling period: $43.78\n",
      "\n",
      "9 profit/loss summaries generated.\n",
      "\n",
      "The top ten model's performance summary:\n",
      "                                          Model_name  Return_value Return_percentage\n",
      "0  Model_002_WINDOW_015_VOLMA_010_HOLD_099_FASTMA...        76.573              None\n",
      "1  Model_006_WINDOW_035_VOLMA_010_HOLD_099_FASTMA...        76.500              None\n",
      "2  Model_005_WINDOW_030_VOLMA_010_HOLD_099_FASTMA...        70.738              None\n",
      "3  Model_007_WINDOW_040_VOLMA_010_HOLD_099_FASTMA...        58.812              None\n",
      "4  Model_008_WINDOW_045_VOLMA_010_HOLD_099_FASTMA...        51.016              None\n",
      "5  Model_003_WINDOW_020_VOLMA_010_HOLD_099_FASTMA...        47.118              None\n",
      "8  Model_009_WINDOW_050_VOLMA_010_HOLD_099_FASTMA...        43.778              None\n",
      "6  Model_004_WINDOW_025_VOLMA_010_HOLD_099_FASTMA...        39.161              None\n",
      "7  Model_001_WINDOW_010_VOLMA_010_HOLD_099_FASTMA...         7.304              None\n"
     ]
    }
   ],
   "source": [
    "# Initialize a dataframe for storing the model's profit and loss\n",
    "model_performance_summary = pd.DataFrame(columns=['Model_name','Return_value','Return_percentage'])\n",
    "for model_name in model_positions_collection:\n",
    "    if verbose_positions: print('Processing positions for model:', model_name)\n",
    "    if verbose_positions: print('Accumulated profit/loss for one share of stock with initial capital of $%.0f at the end of modeling period: $%.2f' % (INITIAL_CAPITAL, model_positions_collection[model_name].accum_return[-1]))\n",
    "    if INITIAL_CAPITAL != 0:\n",
    "        return_percentage = model_positions_collection[model_name].accum_return[-1] / INITIAL_CAPITAL * 100\n",
    "        if verbose_positions: print('Accumulated return percentage based on the initial capital investment: %.2f%%' % return_percentage)\n",
    "    else:\n",
    "        return_percentage = None\n",
    "    if verbose_positions: print()\n",
    "    model_performance_summary = model_performance_summary.append({'Model_name': model_name, 'Return_value': model_positions_collection[model_name].accum_return[-1], 'Return_percentage': return_percentage}, ignore_index=True)\n",
    "    model_performance_summary.sort_values(by=['Return_value'], inplace=True, ascending=False)\n",
    "\n",
    "print(len(model_performance_summary), 'profit/loss summaries generated.\\n')\n",
    "print('The top ten model\\'s performance summary:')\n",
    "print(model_performance_summary.head(10))"
   ]
  },
  {
   "cell_type": "markdown",
   "metadata": {
    "pycharm": {
     "name": "#%% md\n"
    }
   },
   "source": [
    "## Task 5 - Evaluate Strategy Performance"
   ]
  },
  {
   "cell_type": "code",
   "execution_count": 22,
   "metadata": {
    "collapsed": false,
    "jupyter": {
     "outputs_hidden": false
    },
    "pycharm": {
     "name": "#%%\n"
    }
   },
   "outputs": [
    {
     "name": "stdout",
     "output_type": "stream",
     "text": [
      "The entry point for the buy-and-hold model: $42.54 on 2018-01-02\n",
      "The exit point for the buy-and-hold model: $131.25 on 2021-02-17\n",
      "The performance of the buy-and-hold model: $88.71\n",
      "The performance of the top trading model: $76.57\n"
     ]
    }
   ],
   "source": [
    "# Calculate the stock's performance for a buy-and-hold model\n",
    "top_model_name = model_performance_summary.loc[0]['Model_name']\n",
    "top_trading_model = trading_model_collection[top_model_name]\n",
    "print('The entry point for the buy-and-hold model: $%.2f on %s' % (top_trading_model.iloc[0]['open_price'], top_trading_model.index[0].date()))\n",
    "print('The exit point for the buy-and-hold model: $%.2f on %s' % (top_trading_model.iloc[-1]['open_price'], top_trading_model.index[-1].date()))\n",
    "print('The performance of the buy-and-hold model: $%.2f' %(top_trading_model.iloc[-1]['open_price'] - top_trading_model.iloc[0]['open_price']))\n",
    "print('The performance of the top trading model: $%.2f' %(model_performance_summary.iloc[0]['Return_value']))"
   ]
  },
  {
   "cell_type": "code",
   "execution_count": 23,
   "metadata": {
    "collapsed": false,
    "jupyter": {
     "outputs_hidden": false
    },
    "pycharm": {
     "name": "#%%\n"
    }
   },
   "outputs": [
    {
     "name": "stdout",
     "output_type": "stream",
     "text": [
      "            trade_action price_executed qty_transacted cost_basis gain_loss qty_on_hand cash_on_hand position_value total_position accum_return\n",
      "date                                                                                                                                           \n",
      "2018-01-16          True         44.475              1    -44.475     0.000           1      -44.475         44.047         -0.428       -0.428\n",
      "2018-01-25          True         43.626             -1      0.000    -0.849           0       -0.849          0.000         -0.849       -0.849\n",
      "2018-01-30          True         41.381             -1     41.381     0.000          -1       40.532        -41.742         -1.210       -1.210\n",
      "2018-02-15          True         42.447              1      0.000    -1.066           0       -1.915          0.000         -1.915       -1.915\n",
      "2018-03-22          True         42.500             -1     42.500     0.000          -1       40.585        -42.212         -1.627       -1.627\n",
      "2018-04-06          True         42.742              1      0.000    -0.242           0       -2.157          0.000         -2.157       -2.157\n",
      "2018-04-23          True         41.709             -1     41.709     0.000          -1       39.552        -41.310         -1.758       -1.758\n",
      "2018-05-03          True         43.970              1      0.000    -2.261           0       -4.418          0.000         -4.418       -4.418\n",
      "2018-05-07          True         46.295              1    -46.295     0.000           1      -50.713         46.290         -4.423       -4.423\n",
      "2018-05-31          True         46.805             -1      0.000     0.510           0       -3.908          0.000         -3.908       -3.908\n",
      "2018-06-04          True         47.909              1    -47.909     0.000           1      -51.817         47.958         -3.859       -3.859\n",
      "2018-06-18          True         46.970             -1      0.000    -0.939           0       -4.847          0.000         -4.847       -4.847\n",
      "2018-06-20          True         46.587             -1     46.587     0.000          -1       41.740        -46.625         -4.885       -4.885\n",
      "2018-07-03          True         46.947              1      0.000    -0.360           0       -5.207          0.000         -5.207       -5.207\n",
      "2018-07-13          True         47.770              1    -47.770     0.000           1      -52.977         47.833         -5.144       -5.144\n",
      "2018-07-30          True         47.975             -1      0.000     0.205           0       -5.002          0.000         -5.002       -5.002\n",
      "2018-08-02          True         50.145              1    -50.145     0.000           1      -55.147         51.847         -3.300       -3.300\n",
      "2018-09-11          True         54.502             -1      0.000     4.357           0       -0.645          0.000         -0.645       -0.645\n",
      "2018-09-24          True         54.205             -1     54.205     0.000          -1       53.560        -55.197         -1.637       -1.637\n",
      "2018-09-28          True         56.197              1      0.000    -1.992           0       -2.637          0.000         -2.637       -2.637\n",
      "2018-10-11          True         53.630             -1     53.630     0.000          -1       50.993        -53.612         -2.619       -2.619\n",
      "2018-10-24          True         55.650              1      0.000    -2.020           0       -4.657          0.000         -4.657       -4.657\n",
      "2018-10-30          True         52.788             -1     52.788     0.000          -1       48.131        -53.325         -5.194       -5.194\n",
      "2018-12-04          True         45.237              1      0.000     7.551           0        2.894          0.000          2.894        2.894\n",
      "2018-12-10          True         41.250             -1     41.250     0.000          -1       44.144        -42.400          1.744        1.744\n",
      "2019-01-16          True         38.270              1      0.000     2.980           0        5.874          0.000          5.874        5.874\n",
      "2019-01-28          True         38.947              1    -38.947     0.000           1      -33.073         39.075          6.002        6.002\n",
      "2019-03-08          True         42.580             -1      0.000     3.633           0        9.507          0.000          9.507        9.507\n",
      "2019-03-12          True         45.000              1    -45.000     0.000           1      -35.493         45.227          9.734        9.734\n",
      "2019-05-01          True         52.470             -1      0.000     7.470           0       16.977          0.000         16.977       16.977\n",
      "2019-05-13          True         46.928             -1     46.928     0.000          -1       63.905        -46.430         17.475       17.475\n",
      "2019-06-06          True         45.770              1      0.000     1.158           0       18.135          0.000         18.135       18.135\n",
      "2019-06-10          True         47.953              1    -47.953     0.000           1      -29.818         48.145         18.327       18.327\n",
      "2019-08-05          True         49.498             -1      0.000     1.545           0       19.680          0.000         19.680       19.680\n",
      "2019-09-10          True         53.465              1    -53.465     0.000           1      -33.785         54.175         20.390       20.390\n",
      "2019-09-30          True         55.225             -1      0.000     1.760           0       21.440          0.000         21.440       21.440\n",
      "2019-10-02          True         55.765              1    -55.765     0.000           1      -34.325         54.740         20.415       20.415\n",
      "2019-12-03          True         64.578             -1      0.000     8.813           0       30.253          0.000         30.253       30.253\n",
      "2019-12-09          True         67.500              1    -67.500     0.000           1      -37.247         66.730         29.483       29.483\n",
      "2020-01-28          True         78.150             -1      0.000    10.650           0       40.903          0.000         40.903       40.903\n",
      "2020-01-30          True         80.136              1    -80.136     0.000           1      -39.233         80.968         41.735       41.735\n",
      "2020-02-19          True         80.000             -1      0.000    -0.136           0       40.767          0.000         40.767       40.767\n",
      "2020-02-25          True         75.237             -1     75.237     0.000          -1      116.004        -72.020         43.984       43.984\n",
      "2020-03-27          True         63.188              1      0.000    12.049           0       52.816          0.000         52.816       52.816\n",
      "2020-04-15          True         70.600              1    -70.600     0.000           1      -17.784         71.108         53.324       53.324\n",
      "2020-07-24          True         90.987             -1      0.000    20.387           0       73.203          0.000         73.203       73.203\n",
      "2020-08-03          True        108.200              1   -108.200     0.000           1      -34.997        108.938         73.941       73.941\n",
      "2020-09-04          True        120.070             -1      0.000    11.870           0       85.073          0.000         85.073       85.073\n",
      "2020-09-09          True        117.260             -1    117.260     0.000          -1      202.333       -117.320         85.013       85.013\n",
      "2020-09-29          True        114.550              1      0.000     2.710           0       87.783          0.000         87.783       87.783\n",
      "2020-10-13          True        125.270              1   -125.270     0.000           1      -37.487        121.100         83.613       83.613\n",
      "2020-10-20          True        116.200             -1      0.000    -9.070           0       78.713          0.000         78.713       78.713\n",
      "2020-10-29          True        112.370             -1    112.370     0.000          -1      191.083       -115.320         75.763       75.763\n",
      "2020-11-06          True        118.320              1      0.000    -5.950           0       72.763          0.000         72.763       72.763\n",
      "2020-12-02          True        122.020              1   -122.020     0.000           1      -49.257        123.080         73.823       73.823\n",
      "2021-01-07          True        128.360             -1      0.000     6.340           0       79.103          0.000         79.103       79.103\n",
      "2021-01-22          True        136.280              1   -136.280     0.000           1      -57.177        139.070         81.893       81.893\n",
      "2021-02-01          True        133.750             -1      0.000    -2.530           0       76.573          0.000         76.573       76.573\n"
     ]
    }
   ],
   "source": [
    "top_model_positions = model_positions_collection[top_model_name]\n",
    "print(top_model_positions[top_model_positions['trade_action'] != 0])"
   ]
  },
  {
   "cell_type": "code",
   "execution_count": 24,
   "metadata": {
    "collapsed": false,
    "jupyter": {
     "outputs_hidden": false
    },
    "pycharm": {
     "name": "#%%\n"
    }
   },
   "outputs": [
    {
     "data": {
      "text/plain": "<Figure size 1152x648 with 1 Axes>",
      "image/png": "[encoded data removed]"
     },
     "metadata": {},
     "output_type": "display_data"
    }
   ],
   "source": [
    "draw_model_graph(trading_model_collection[top_model_name], top_model_name)"
   ]
  },
  {
   "cell_type": "code",
   "execution_count": 25,
   "metadata": {
    "colab": {
     "base_uri": "https://localhost:8080/",
     "height": 34
    },
    "colab_type": "code",
    "collapsed": false,
    "id": "be1J2gmiTemG",
    "jupyter": {
     "outputs_hidden": false
    },
    "outputId": "28010a58-a8c1-43ae-d6ff-200fc13eb876",
    "pycharm": {
     "name": "#%%\n"
    }
   },
   "outputs": [
    {
     "name": "stdout",
     "output_type": "stream",
     "text": [
      "Total time for the script: 0:00:07.459893\n"
     ]
    }
   ],
   "source": [
    "print ('Total time for the script:',(datetime.now() - startTimeScript))"
   ]
  }
 ],
 "metadata": {
  "colab": {
   "collapsed_sections": [],
   "name": "py_algotrading_ema_crossover_grid_search.ipynb",
   "provenance": []
  },
  "kernelspec": {
   "display_name": "Python 3",
   "language": "python",
   "name": "python3"
  },
  "language_info": {
   "codemirror_mode": {
    "name": "ipython",
    "version": 3
   },
   "file_extension": ".py",
   "mimetype": "text/x-python",
   "name": "python",
   "nbconvert_exporter": "python",
   "pygments_lexer": "ipython3",
   "version": "3.8.3"
  }
 },
 "nbformat": 4,
 "nbformat_minor": 4
}